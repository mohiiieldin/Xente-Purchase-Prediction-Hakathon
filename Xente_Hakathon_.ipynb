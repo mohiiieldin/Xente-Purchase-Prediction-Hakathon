{
  "nbformat": 4,
  "nbformat_minor": 0,
  "metadata": {
    "colab": {
      "name": " Xente Hakathon .ipynb",
      "provenance": [],
      "collapsed_sections": [],
      "toc_visible": true,
      "machine_shape": "hm",
      "include_colab_link": true
    },
    "kernelspec": {
      "name": "python3",
      "display_name": "Python 3"
    }
  },
  "cells": [
    {
      "cell_type": "markdown",
      "metadata": {
        "id": "view-in-github",
        "colab_type": "text"
      },
      "source": [
        "<a href=\"https://colab.research.google.com/github/mohiiieldin/Xente-Purchase-Prediction-Hakathon-Python/blob/master/Xente_Hakathon_.ipynb\" target=\"_parent\"><img src=\"https://colab.research.google.com/assets/colab-badge.svg\" alt=\"Open In Colab\"/></a>"
      ]
    },
    {
      "cell_type": "markdown",
      "metadata": {
        "id": "v72tNzJcHj31",
        "colab_type": "text"
      },
      "source": [
        "The Data was provided by Zindi \n",
        "https://zindi.africa/hackathons/umojahack-2-xente-purchase-prediction-challenge"
      ]
    },
    {
      "cell_type": "code",
      "metadata": {
        "id": "nMllfQXwVq9A",
        "colab_type": "code",
        "outputId": "448d6b35-c356-4b8d-9255-d0cc7fe40cae",
        "colab": {
          "base_uri": "https://localhost:8080/",
          "height": 122
        }
      },
      "source": [
        "from google.colab import drive\n",
        "drive.mount('/content/drive')"
      ],
      "execution_count": 0,
      "outputs": [
        {
          "output_type": "stream",
          "text": [
            "Go to this URL in a browser: https://accounts.google.com/o/oauth2/auth?client_id=947318989803-6bn6qk8qdgf4n4g3pfee6491hc0brc4i.apps.googleusercontent.com&redirect_uri=urn%3aietf%3awg%3aoauth%3a2.0%3aoob&response_type=code&scope=email%20https%3a%2f%2fwww.googleapis.com%2fauth%2fdocs.test%20https%3a%2f%2fwww.googleapis.com%2fauth%2fdrive%20https%3a%2f%2fwww.googleapis.com%2fauth%2fdrive.photos.readonly%20https%3a%2f%2fwww.googleapis.com%2fauth%2fpeopleapi.readonly\n",
            "\n",
            "Enter your authorization code:\n",
            "··········\n",
            "Mounted at /content/drive\n"
          ],
          "name": "stdout"
        }
      ]
    },
    {
      "cell_type": "code",
      "metadata": {
        "id": "222TwcOHUFRY",
        "colab_type": "code",
        "outputId": "cedec2f9-6859-470a-d731-e6bd916d859a",
        "colab": {
          "base_uri": "https://localhost:8080/",
          "height": 360
        }
      },
      "source": [
        "pip install catboost"
      ],
      "execution_count": 0,
      "outputs": [
        {
          "output_type": "stream",
          "text": [
            "Collecting catboost\n",
            "\u001b[?25l  Downloading https://files.pythonhosted.org/packages/94/ec/12b9a42b2ea7dfe5b602f235692ab2b61ee1334ff34334a15902272869e8/catboost-0.22-cp36-none-manylinux1_x86_64.whl (64.4MB)\n",
            "\u001b[K     |████████████████████████████████| 64.4MB 64kB/s \n",
            "\u001b[?25hRequirement already satisfied: scipy in /usr/local/lib/python3.6/dist-packages (from catboost) (1.4.1)\n",
            "Requirement already satisfied: graphviz in /usr/local/lib/python3.6/dist-packages (from catboost) (0.10.1)\n",
            "Requirement already satisfied: numpy>=1.16.0 in /usr/local/lib/python3.6/dist-packages (from catboost) (1.18.2)\n",
            "Requirement already satisfied: plotly in /usr/local/lib/python3.6/dist-packages (from catboost) (4.4.1)\n",
            "Requirement already satisfied: matplotlib in /usr/local/lib/python3.6/dist-packages (from catboost) (3.2.0)\n",
            "Requirement already satisfied: pandas>=0.24.0 in /usr/local/lib/python3.6/dist-packages (from catboost) (0.25.3)\n",
            "Requirement already satisfied: six in /usr/local/lib/python3.6/dist-packages (from catboost) (1.12.0)\n",
            "Requirement already satisfied: retrying>=1.3.3 in /usr/local/lib/python3.6/dist-packages (from plotly->catboost) (1.3.3)\n",
            "Requirement already satisfied: kiwisolver>=1.0.1 in /usr/local/lib/python3.6/dist-packages (from matplotlib->catboost) (1.1.0)\n",
            "Requirement already satisfied: cycler>=0.10 in /usr/local/lib/python3.6/dist-packages (from matplotlib->catboost) (0.10.0)\n",
            "Requirement already satisfied: python-dateutil>=2.1 in /usr/local/lib/python3.6/dist-packages (from matplotlib->catboost) (2.8.1)\n",
            "Requirement already satisfied: pyparsing!=2.0.4,!=2.1.2,!=2.1.6,>=2.0.1 in /usr/local/lib/python3.6/dist-packages (from matplotlib->catboost) (2.4.6)\n",
            "Requirement already satisfied: pytz>=2017.2 in /usr/local/lib/python3.6/dist-packages (from pandas>=0.24.0->catboost) (2018.9)\n",
            "Requirement already satisfied: setuptools in /usr/local/lib/python3.6/dist-packages (from kiwisolver>=1.0.1->matplotlib->catboost) (46.0.0)\n",
            "Installing collected packages: catboost\n",
            "Successfully installed catboost-0.22\n"
          ],
          "name": "stdout"
        }
      ]
    },
    {
      "cell_type": "code",
      "metadata": {
        "id": "WiX5hLsLUISg",
        "colab_type": "code",
        "outputId": "0252fe42-851f-4798-88af-1fd51b51a486",
        "colab": {
          "base_uri": "https://localhost:8080/",
          "height": 72
        }
      },
      "source": [
        "# importing main libraries \n",
        "import  pandas as pd\n",
        "import matplotlib.pyplot as plt\n",
        "import numpy as np\n",
        "from datetime import datetime, timedelta,date\n",
        "import pandas_profiling \n",
        "from pandas_profiling import ProfileReport\n",
        "import seaborn as sns\n",
        "from numpy import sqrt \n",
        "from sklearn.metrics import mean_squared_error\n",
        "from sklearn.metrics import accuracy_score\n",
        "# from keras.layers import Embedding \n",
        ",\n",
        "#importing machine learning libraries\n",
        "from sklearn.model_selection import KFold, cross_val_score, train_test_split\n",
        "from sklearn.metrics import confusion_matrix\n",
        "import sklearn.metrics as metrics\n",
        "from sklearn.cluster import KMeans\n",
        "\n",
        "# import classifier\n",
        "from sklearn.ensemble import RandomForestClassifier\n",
        "from xgboost.sklearn import XGBClassifier\n",
        "from sklearn.neighbors import KNeighborsClassifier\n",
        "\n",
        "#importing regressors\n",
        "from xgboost.sklearn import XGBRegressor\n",
        "#from catboost import CatBoostRegressor\n",
        "\n",
        "\n",
        "\n",
        "from sklearn.ensemble import RandomForestRegressor\n",
        "from sklearn.linear_model import LinearRegression\n",
        "from sklearn.tree import DecisionTreeRegressor\n",
        "from sklearn import svm\n",
        "\n",
        "#ignoring warnings\n",
        "import warnings\n",
        "warnings.filterwarnings(\"ignore\")\n",
        "\n",
        "from sklearn.model_selection import GridSearchCV\n",
        "from sklearn.model_selection import RandomizedSearchCV\n",
        "from sklearn import metrics\n",
        "\n",
        "\n",
        "\n",
        "#Pipeline and encoders\n",
        "#from sklearn.compose import columnTransformer\n",
        "from sklearn.pipeline import Pipeline\n",
        "from sklearn.preprocessing import LabelEncoder\n",
        "from sklearn.preprocessing import OneHotEncoder\n",
        "from sklearn import preprocessing\n",
        "from sklearn.preprocessing import StandardScaler\n"
      ],
      "execution_count": 0,
      "outputs": [
        {
          "output_type": "stream",
          "text": [
            "/usr/local/lib/python3.6/dist-packages/statsmodels/tools/_testing.py:19: FutureWarning: pandas.util.testing is deprecated. Use the functions in the public API at pandas.testing instead.\n",
            "  import pandas.util.testing as tm\n"
          ],
          "name": "stderr"
        }
      ]
    },
    {
      "cell_type": "code",
      "metadata": {
        "id": "ee-_rMw8XFWC",
        "colab_type": "code",
        "colab": {}
      },
      "source": [
        "from catboost import Pool\n",
        "from catboost import CatBoostClassifier"
      ],
      "execution_count": 0,
      "outputs": []
    },
    {
      "cell_type": "markdown",
      "metadata": {
        "id": "XrRuwhd1UenP",
        "colab_type": "text"
      },
      "source": [
        "Rading and cleaning the data"
      ]
    },
    {
      "cell_type": "code",
      "metadata": {
        "id": "AKssWaguUlIl",
        "colab_type": "code",
        "colab": {}
      },
      "source": [
        "Pid_path=\"/content/drive/My Drive/zindi-data/PID_Categories.csv\"\n",
        "sample_path = '/content/drive/My Drive/zindi-data/SampleSubmission.csv'\n",
        "train_path = '/content/drive/My Drive/zindi-data/Train.csv'\n",
        "original = pd.read_csv(train_path)\n",
        "categories = pd.read_csv(Pid_path)\n",
        "submission = pd.read_csv(sample_path)\n"
      ],
      "execution_count": 0,
      "outputs": []
    },
    {
      "cell_type": "code",
      "metadata": {
        "id": "b3pr_bMVVQ9w",
        "colab_type": "code",
        "colab": {}
      },
      "source": [
        "train = original.copy()"
      ],
      "execution_count": 0,
      "outputs": []
    },
    {
      "cell_type": "markdown",
      "metadata": {
        "id": "vJ1Gf-YwaCjV",
        "colab_type": "text"
      },
      "source": [
        "# data cleaning"
      ]
    },
    {
      "cell_type": "code",
      "metadata": {
        "id": "zFb-P_MWaRL_",
        "colab_type": "code",
        "colab": {}
      },
      "source": [
        "train.date =  pd.to_datetime(train.date)\n"
      ],
      "execution_count": 0,
      "outputs": []
    },
    {
      "cell_type": "code",
      "metadata": {
        "id": "MaoNFStQctN7",
        "colab_type": "code",
        "colab": {}
      },
      "source": [
        "train = train.assign(year =  train.date.dt.year, month = train.date.dt.month ,day = train.date.dt.day) \n"
      ],
      "execution_count": 0,
      "outputs": []
    },
    {
      "cell_type": "code",
      "metadata": {
        "id": "Q-aFSE9wd1fx",
        "colab_type": "code",
        "colab": {}
      },
      "source": [
        "from datetime import datetime\n",
        "\n"
      ],
      "execution_count": 0,
      "outputs": []
    },
    {
      "cell_type": "code",
      "metadata": {
        "id": "sovuh0sShTjI",
        "colab_type": "code",
        "outputId": "5a799c80-3acf-45e8-e30a-e18793d2b0e4",
        "colab": {
          "base_uri": "https://localhost:8080/",
          "height": 419
        }
      },
      "source": [
        "train['weekday'] = train['date'].dt.dayofweek\n",
        "train"
      ],
      "execution_count": 0,
      "outputs": [
        {
          "output_type": "execute_result",
          "data": {
            "text/html": [
              "<div>\n",
              "<style scoped>\n",
              "    .dataframe tbody tr th:only-of-type {\n",
              "        vertical-align: middle;\n",
              "    }\n",
              "\n",
              "    .dataframe tbody tr th {\n",
              "        vertical-align: top;\n",
              "    }\n",
              "\n",
              "    .dataframe thead th {\n",
              "        text-align: right;\n",
              "    }\n",
              "</style>\n",
              "<table border=\"1\" class=\"dataframe\">\n",
              "  <thead>\n",
              "    <tr style=\"text-align: right;\">\n",
              "      <th></th>\n",
              "      <th>date</th>\n",
              "      <th>acc</th>\n",
              "      <th>PID</th>\n",
              "      <th>year</th>\n",
              "      <th>month</th>\n",
              "      <th>day</th>\n",
              "      <th>weekday</th>\n",
              "      <th>Category</th>\n",
              "    </tr>\n",
              "  </thead>\n",
              "  <tbody>\n",
              "    <tr>\n",
              "      <th>0</th>\n",
              "      <td>2019-12-13 11:38:33.226</td>\n",
              "      <td>256787571627</td>\n",
              "      <td>80G0</td>\n",
              "      <td>2019</td>\n",
              "      <td>12</td>\n",
              "      <td>13</td>\n",
              "      <td>4</td>\n",
              "      <td>AIRTIME_DATA</td>\n",
              "    </tr>\n",
              "    <tr>\n",
              "      <th>1</th>\n",
              "      <td>2019-11-15 09:16:06.591</td>\n",
              "      <td>256704005298</td>\n",
              "      <td>80G0</td>\n",
              "      <td>2019</td>\n",
              "      <td>11</td>\n",
              "      <td>15</td>\n",
              "      <td>4</td>\n",
              "      <td>AIRTIME_DATA</td>\n",
              "    </tr>\n",
              "    <tr>\n",
              "      <th>2</th>\n",
              "      <td>2019-11-19 19:51:59.545</td>\n",
              "      <td>256701950144</td>\n",
              "      <td>80G0</td>\n",
              "      <td>2019</td>\n",
              "      <td>11</td>\n",
              "      <td>19</td>\n",
              "      <td>1</td>\n",
              "      <td>AIRTIME_DATA</td>\n",
              "    </tr>\n",
              "    <tr>\n",
              "      <th>3</th>\n",
              "      <td>2019-12-12 11:41:13.059</td>\n",
              "      <td>256702173540</td>\n",
              "      <td>80G0</td>\n",
              "      <td>2019</td>\n",
              "      <td>12</td>\n",
              "      <td>12</td>\n",
              "      <td>3</td>\n",
              "      <td>AIRTIME_DATA</td>\n",
              "    </tr>\n",
              "    <tr>\n",
              "      <th>4</th>\n",
              "      <td>2019-12-27 18:17:24.438</td>\n",
              "      <td>256779600475</td>\n",
              "      <td>80G0</td>\n",
              "      <td>2019</td>\n",
              "      <td>12</td>\n",
              "      <td>27</td>\n",
              "      <td>4</td>\n",
              "      <td>AIRTIME_DATA</td>\n",
              "    </tr>\n",
              "    <tr>\n",
              "      <th>...</th>\n",
              "      <td>...</td>\n",
              "      <td>...</td>\n",
              "      <td>...</td>\n",
              "      <td>...</td>\n",
              "      <td>...</td>\n",
              "      <td>...</td>\n",
              "      <td>...</td>\n",
              "      <td>...</td>\n",
              "    </tr>\n",
              "    <tr>\n",
              "      <th>66509</th>\n",
              "      <td>2020-02-03 00:38:08.263</td>\n",
              "      <td>256751875343</td>\n",
              "      <td>WZF8</td>\n",
              "      <td>2020</td>\n",
              "      <td>2</td>\n",
              "      <td>3</td>\n",
              "      <td>0</td>\n",
              "      <td>AIRTIME_DATA</td>\n",
              "    </tr>\n",
              "    <tr>\n",
              "      <th>66510</th>\n",
              "      <td>2020-02-03 09:19:24.799</td>\n",
              "      <td>256705268336</td>\n",
              "      <td>WZF8</td>\n",
              "      <td>2020</td>\n",
              "      <td>2</td>\n",
              "      <td>3</td>\n",
              "      <td>0</td>\n",
              "      <td>AIRTIME_DATA</td>\n",
              "    </tr>\n",
              "    <tr>\n",
              "      <th>66511</th>\n",
              "      <td>2020-02-04 18:13:39.612</td>\n",
              "      <td>256702381226</td>\n",
              "      <td>WZF8</td>\n",
              "      <td>2020</td>\n",
              "      <td>2</td>\n",
              "      <td>4</td>\n",
              "      <td>1</td>\n",
              "      <td>AIRTIME_DATA</td>\n",
              "    </tr>\n",
              "    <tr>\n",
              "      <th>66512</th>\n",
              "      <td>2020-02-04 21:39:08.131</td>\n",
              "      <td>256751875343</td>\n",
              "      <td>WZF8</td>\n",
              "      <td>2020</td>\n",
              "      <td>2</td>\n",
              "      <td>4</td>\n",
              "      <td>1</td>\n",
              "      <td>AIRTIME_DATA</td>\n",
              "    </tr>\n",
              "    <tr>\n",
              "      <th>66513</th>\n",
              "      <td>2020-02-18 18:20:41.041</td>\n",
              "      <td>256702381226</td>\n",
              "      <td>WZF8</td>\n",
              "      <td>2020</td>\n",
              "      <td>2</td>\n",
              "      <td>18</td>\n",
              "      <td>1</td>\n",
              "      <td>AIRTIME_DATA</td>\n",
              "    </tr>\n",
              "  </tbody>\n",
              "</table>\n",
              "<p>66514 rows × 8 columns</p>\n",
              "</div>"
            ],
            "text/plain": [
              "                         date           acc   PID  ...  day  weekday      Category\n",
              "0     2019-12-13 11:38:33.226  256787571627  80G0  ...   13        4  AIRTIME_DATA\n",
              "1     2019-11-15 09:16:06.591  256704005298  80G0  ...   15        4  AIRTIME_DATA\n",
              "2     2019-11-19 19:51:59.545  256701950144  80G0  ...   19        1  AIRTIME_DATA\n",
              "3     2019-12-12 11:41:13.059  256702173540  80G0  ...   12        3  AIRTIME_DATA\n",
              "4     2019-12-27 18:17:24.438  256779600475  80G0  ...   27        4  AIRTIME_DATA\n",
              "...                       ...           ...   ...  ...  ...      ...           ...\n",
              "66509 2020-02-03 00:38:08.263  256751875343  WZF8  ...    3        0  AIRTIME_DATA\n",
              "66510 2020-02-03 09:19:24.799  256705268336  WZF8  ...    3        0  AIRTIME_DATA\n",
              "66511 2020-02-04 18:13:39.612  256702381226  WZF8  ...    4        1  AIRTIME_DATA\n",
              "66512 2020-02-04 21:39:08.131  256751875343  WZF8  ...    4        1  AIRTIME_DATA\n",
              "66513 2020-02-18 18:20:41.041  256702381226  WZF8  ...   18        1  AIRTIME_DATA\n",
              "\n",
              "[66514 rows x 8 columns]"
            ]
          },
          "metadata": {
            "tags": []
          },
          "execution_count": 29
        }
      ]
    },
    {
      "cell_type": "code",
      "metadata": {
        "id": "mtye8Q8VgulM",
        "colab_type": "code",
        "outputId": "4960fc04-7e34-40d9-d890-999ea4c1fb68",
        "colab": {
          "base_uri": "https://localhost:8080/",
          "height": 230
        }
      },
      "source": [
        "s.dt.day"
      ],
      "execution_count": 0,
      "outputs": [
        {
          "output_type": "execute_result",
          "data": {
            "text/plain": [
              "2019-11-01 00:38:59.418     1\n",
              "2019-11-02 00:38:59.418     2\n",
              "2019-11-03 00:38:59.418     3\n",
              "2019-11-04 00:38:59.418     4\n",
              "2019-11-05 00:38:59.418     5\n",
              "                           ..\n",
              "2020-02-18 00:38:59.418    18\n",
              "2020-02-19 00:38:59.418    19\n",
              "2020-02-20 00:38:59.418    20\n",
              "2020-02-21 00:38:59.418    21\n",
              "2020-02-22 00:38:59.418    22\n",
              "Freq: D, Length: 114, dtype: int64"
            ]
          },
          "metadata": {
            "tags": []
          },
          "execution_count": 53
        }
      ]
    },
    {
      "cell_type": "code",
      "metadata": {
        "id": "gp0Imyimf4_b",
        "colab_type": "code",
        "outputId": "eb066cec-b6f3-4a96-ae68-ad4fae5777f7",
        "colab": {
          "base_uri": "https://localhost:8080/",
          "height": 419
        }
      },
      "source": [
        "train = train.sort_values(by = 'date')\n",
        "train "
      ],
      "execution_count": 0,
      "outputs": [
        {
          "output_type": "execute_result",
          "data": {
            "text/html": [
              "<div>\n",
              "<style scoped>\n",
              "    .dataframe tbody tr th:only-of-type {\n",
              "        vertical-align: middle;\n",
              "    }\n",
              "\n",
              "    .dataframe tbody tr th {\n",
              "        vertical-align: top;\n",
              "    }\n",
              "\n",
              "    .dataframe thead th {\n",
              "        text-align: right;\n",
              "    }\n",
              "</style>\n",
              "<table border=\"1\" class=\"dataframe\">\n",
              "  <thead>\n",
              "    <tr style=\"text-align: right;\">\n",
              "      <th></th>\n",
              "      <th>date</th>\n",
              "      <th>acc</th>\n",
              "      <th>PID</th>\n",
              "      <th>year</th>\n",
              "      <th>month</th>\n",
              "      <th>day</th>\n",
              "    </tr>\n",
              "  </thead>\n",
              "  <tbody>\n",
              "    <tr>\n",
              "      <th>929</th>\n",
              "      <td>2019-11-01 00:38:59.418</td>\n",
              "      <td>256702177173</td>\n",
              "      <td>U1DD</td>\n",
              "      <td>2019</td>\n",
              "      <td>11</td>\n",
              "      <td>1</td>\n",
              "    </tr>\n",
              "    <tr>\n",
              "      <th>17858</th>\n",
              "      <td>2019-11-01 00:41:40.281</td>\n",
              "      <td>256702177173</td>\n",
              "      <td>80G0</td>\n",
              "      <td>2019</td>\n",
              "      <td>11</td>\n",
              "      <td>1</td>\n",
              "    </tr>\n",
              "    <tr>\n",
              "      <th>30451</th>\n",
              "      <td>2019-11-01 00:58:35.659</td>\n",
              "      <td>256774747834</td>\n",
              "      <td>U1DD</td>\n",
              "      <td>2019</td>\n",
              "      <td>11</td>\n",
              "      <td>1</td>\n",
              "    </tr>\n",
              "    <tr>\n",
              "      <th>17853</th>\n",
              "      <td>2019-11-01 01:00:57.025</td>\n",
              "      <td>256774747834</td>\n",
              "      <td>80G0</td>\n",
              "      <td>2019</td>\n",
              "      <td>11</td>\n",
              "      <td>1</td>\n",
              "    </tr>\n",
              "    <tr>\n",
              "      <th>4005</th>\n",
              "      <td>2019-11-01 01:02:30.683</td>\n",
              "      <td>256703053300</td>\n",
              "      <td>DJGS</td>\n",
              "      <td>2019</td>\n",
              "      <td>11</td>\n",
              "      <td>1</td>\n",
              "    </tr>\n",
              "    <tr>\n",
              "      <th>...</th>\n",
              "      <td>...</td>\n",
              "      <td>...</td>\n",
              "      <td>...</td>\n",
              "      <td>...</td>\n",
              "      <td>...</td>\n",
              "      <td>...</td>\n",
              "    </tr>\n",
              "    <tr>\n",
              "      <th>66509</th>\n",
              "      <td>2020-02-22 21:43:49.110</td>\n",
              "      <td>256706118107</td>\n",
              "      <td>WLIW</td>\n",
              "      <td>2020</td>\n",
              "      <td>2</td>\n",
              "      <td>22</td>\n",
              "    </tr>\n",
              "    <tr>\n",
              "      <th>66510</th>\n",
              "      <td>2020-02-22 21:54:22.426</td>\n",
              "      <td>256759760017</td>\n",
              "      <td>WLIW</td>\n",
              "      <td>2020</td>\n",
              "      <td>2</td>\n",
              "      <td>22</td>\n",
              "    </tr>\n",
              "    <tr>\n",
              "      <th>66511</th>\n",
              "      <td>2020-02-22 21:54:46.918</td>\n",
              "      <td>256797135398</td>\n",
              "      <td>DJGS</td>\n",
              "      <td>2020</td>\n",
              "      <td>2</td>\n",
              "      <td>22</td>\n",
              "    </tr>\n",
              "    <tr>\n",
              "      <th>66512</th>\n",
              "      <td>2020-02-22 22:07:44.173</td>\n",
              "      <td>256000000000</td>\n",
              "      <td>U1DD</td>\n",
              "      <td>2020</td>\n",
              "      <td>2</td>\n",
              "      <td>22</td>\n",
              "    </tr>\n",
              "    <tr>\n",
              "      <th>66513</th>\n",
              "      <td>2020-02-22 22:32:54.348</td>\n",
              "      <td>256777575334</td>\n",
              "      <td>T0LZ</td>\n",
              "      <td>2020</td>\n",
              "      <td>2</td>\n",
              "      <td>22</td>\n",
              "    </tr>\n",
              "  </tbody>\n",
              "</table>\n",
              "<p>66514 rows × 6 columns</p>\n",
              "</div>"
            ],
            "text/plain": [
              "                         date           acc   PID  year  month  day\n",
              "929   2019-11-01 00:38:59.418  256702177173  U1DD  2019     11    1\n",
              "17858 2019-11-01 00:41:40.281  256702177173  80G0  2019     11    1\n",
              "30451 2019-11-01 00:58:35.659  256774747834  U1DD  2019     11    1\n",
              "17853 2019-11-01 01:00:57.025  256774747834  80G0  2019     11    1\n",
              "4005  2019-11-01 01:02:30.683  256703053300  DJGS  2019     11    1\n",
              "...                       ...           ...   ...   ...    ...  ...\n",
              "66509 2020-02-22 21:43:49.110  256706118107  WLIW  2020      2   22\n",
              "66510 2020-02-22 21:54:22.426  256759760017  WLIW  2020      2   22\n",
              "66511 2020-02-22 21:54:46.918  256797135398  DJGS  2020      2   22\n",
              "66512 2020-02-22 22:07:44.173  256000000000  U1DD  2020      2   22\n",
              "66513 2020-02-22 22:32:54.348  256777575334  T0LZ  2020      2   22\n",
              "\n",
              "[66514 rows x 6 columns]"
            ]
          },
          "metadata": {
            "tags": []
          },
          "execution_count": 15
        }
      ]
    },
    {
      "cell_type": "code",
      "metadata": {
        "id": "RcIJaIQD3_ej",
        "colab_type": "code",
        "colab": {}
      },
      "source": [
        "train.date = train.date.apply(lambda x:  x.replace(second=0,minute=0,microsecond=0,hour=0))"
      ],
      "execution_count": 0,
      "outputs": []
    },
    {
      "cell_type": "code",
      "metadata": {
        "id": "PawS4A89zCUW",
        "colab_type": "code",
        "outputId": "0480b9e6-1a8c-4c64-d403-29da66ad00ac",
        "colab": {
          "base_uri": "https://localhost:8080/",
          "height": 34
        }
      },
      "source": [
        "train[\"date\"].nunique()"
      ],
      "execution_count": 0,
      "outputs": [
        {
          "output_type": "execute_result",
          "data": {
            "text/plain": [
              "114"
            ]
          },
          "metadata": {
            "tags": []
          },
          "execution_count": 17
        }
      ]
    },
    {
      "cell_type": "code",
      "metadata": {
        "id": "C5jfL2vl5Fje",
        "colab_type": "code",
        "colab": {}
      },
      "source": [
        "acc = train[\"acc\"].unique()\n",
        "year = train['year'].unique()\n",
        "month = train['month'].unique()\n",
        "pid = train['day'].unique()\n",
        "pid = train['PID'].unique()\n",
        "empty_df = [] \n",
        "for i in range(34): \n",
        "  for shop in shop_ids: \n",
        "    for item in pid: \n",
        "      empty_df.append([i, shop, item])\n",
        "empty_df = pd.DataFrame(empty_df, columns=['date_block_num','shop_id','item_id']) "
      ],
      "execution_count": 0,
      "outputs": []
    },
    {
      "cell_type": "code",
      "metadata": {
        "id": "MTp5KkXwxCsi",
        "colab_type": "code",
        "colab": {}
      },
      "source": [
        "# train.groupby([\"acc\",\"year\",\"month\",\"day\",\"PID\"]).head()\n",
        "bigdfobj =  []\n",
        "\n",
        "for a in train[\"acc\"].unique() :\n",
        "  for d in train[\"date\"].unique ():\n",
        "    for p in train[\"PID\"].unique():\n",
        "      bigdfobj.append([a,d,p])\n",
        "\n",
        "\n",
        "\n"
      ],
      "execution_count": 0,
      "outputs": []
    },
    {
      "cell_type": "code",
      "metadata": {
        "id": "jUm_bFp8C8eU",
        "colab_type": "code",
        "outputId": "810021a2-f953-4d4c-b65a-6a4df0f8c87a",
        "colab": {
          "base_uri": "https://localhost:8080/",
          "height": 34
        }
      },
      "source": [
        "len(bigdfobj)"
      ],
      "execution_count": 0,
      "outputs": [
        {
          "output_type": "execute_result",
          "data": {
            "text/plain": [
              "10054344"
            ]
          },
          "metadata": {
            "tags": []
          },
          "execution_count": 19
        }
      ]
    },
    {
      "cell_type": "code",
      "metadata": {
        "id": "Gt-xO5ZuB3uV",
        "colab_type": "code",
        "outputId": "eae5711b-b010-4fac-bbd4-258ba476d6a9",
        "colab": {
          "base_uri": "https://localhost:8080/",
          "height": 221
        }
      },
      "source": [
        "train[train.month==11].day"
      ],
      "execution_count": 0,
      "outputs": [
        {
          "output_type": "execute_result",
          "data": {
            "text/plain": [
              "39080     1\n",
              "3228      1\n",
              "42778     1\n",
              "3227      1\n",
              "57137     1\n",
              "         ..\n",
              "3622     30\n",
              "55699    30\n",
              "57306    30\n",
              "39021    30\n",
              "64450    30\n",
              "Name: day, Length: 17991, dtype: int64"
            ]
          },
          "metadata": {
            "tags": []
          },
          "execution_count": 44
        }
      ]
    },
    {
      "cell_type": "code",
      "metadata": {
        "id": "__qiaTTJ5_1o",
        "colab_type": "code",
        "colab": {}
      },
      "source": [
        "bigdfobj = pd.DataFrame(bigdfobj,columns=[\"acc\",\"date\",\"pid\"])\n"
      ],
      "execution_count": 0,
      "outputs": []
    },
    {
      "cell_type": "code",
      "metadata": {
        "id": "ClKBfXeHCRtq",
        "colab_type": "code",
        "colab": {}
      },
      "source": [
        "bigdfobj.sort_values(\"date\",inplace=True)"
      ],
      "execution_count": 0,
      "outputs": []
    },
    {
      "cell_type": "code",
      "metadata": {
        "id": "TTc3JXucB6Ao",
        "colab_type": "code",
        "colab": {}
      },
      "source": [
        "bigdfobj.to_pickle(\"bigdf.pkl\")"
      ],
      "execution_count": 0,
      "outputs": []
    },
    {
      "cell_type": "code",
      "metadata": {
        "id": "J_mnL2pDCXp5",
        "colab_type": "code",
        "colab": {}
      },
      "source": [
        "# to_remove_ind = bigdfobj[(bigdfobj.month == 2) & (bigdfobj.day > 22)].index\n",
        "# bigdfobj.drop(to_remove_ind , inplace = True , axis = 0) "
      ],
      "execution_count": 0,
      "outputs": []
    },
    {
      "cell_type": "code",
      "metadata": {
        "id": "0dhfykMvDdJ6",
        "colab_type": "code",
        "colab": {}
      },
      "source": [
        "# to_remove_ind = bigdfobj[(bigdfobj.month == 11) & (bigdfobj.day == 31)].index\n",
        "# bigdfobj.drop(to_remove_ind , inplace = True , axis = 0) "
      ],
      "execution_count": 0,
      "outputs": []
    },
    {
      "cell_type": "code",
      "metadata": {
        "id": "EmcPwy7SU_oc",
        "colab_type": "code",
        "colab": {}
      },
      "source": [
        ""
      ],
      "execution_count": 0,
      "outputs": []
    },
    {
      "cell_type": "code",
      "metadata": {
        "id": "bP3peyhVGHUu",
        "colab_type": "code",
        "outputId": "01be4cec-455a-475d-f550-59606cc89fcd",
        "colab": {
          "base_uri": "https://localhost:8080/",
          "height": 34
        }
      },
      "source": [
        "train.columns"
      ],
      "execution_count": 0,
      "outputs": [
        {
          "output_type": "execute_result",
          "data": {
            "text/plain": [
              "Index(['date', 'acc', 'PID', 'year', 'month', 'day'], dtype='object')"
            ]
          },
          "metadata": {
            "tags": []
          },
          "execution_count": 23
        }
      ]
    },
    {
      "cell_type": "code",
      "metadata": {
        "id": "nB71cVADGtXS",
        "colab_type": "code",
        "colab": {}
      },
      "source": [
        "train  = train.sort_values(\"date\")"
      ],
      "execution_count": 0,
      "outputs": []
    },
    {
      "cell_type": "code",
      "metadata": {
        "id": "rFvtZDp0HnFn",
        "colab_type": "code",
        "colab": {}
      },
      "source": [
        "train.rename(columns={\"PID\":\"pid\"},inplace=True)"
      ],
      "execution_count": 0,
      "outputs": []
    },
    {
      "cell_type": "code",
      "metadata": {
        "id": "MHmUH-KkICqM",
        "colab_type": "code",
        "outputId": "418d9f05-1f9e-4172-da59-da60209b19a7",
        "colab": {
          "base_uri": "https://localhost:8080/",
          "height": 34
        }
      },
      "source": [
        "train.columns"
      ],
      "execution_count": 0,
      "outputs": [
        {
          "output_type": "execute_result",
          "data": {
            "text/plain": [
              "Index(['date', 'acc', 'PID', 'year', 'month', 'day'], dtype='object')"
            ]
          },
          "metadata": {
            "tags": []
          },
          "execution_count": 25
        }
      ]
    },
    {
      "cell_type": "code",
      "metadata": {
        "id": "qIrLu9SRIIEM",
        "colab_type": "code",
        "colab": {}
      },
      "source": [
        "train.drop([\"month\",\"year\",\"day\"],axis=1,inplace=True)"
      ],
      "execution_count": 0,
      "outputs": []
    },
    {
      "cell_type": "code",
      "metadata": {
        "id": "0m5NmAHcIbof",
        "colab_type": "code",
        "colab": {}
      },
      "source": [
        "# train.drop(,axis=1,inplace=True)"
      ],
      "execution_count": 0,
      "outputs": []
    },
    {
      "cell_type": "code",
      "metadata": {
        "id": "SaaxZsZjE5Y9",
        "colab_type": "code",
        "colab": {}
      },
      "source": [
        "train[\"target\"] = np.zeros(len(train)) + 1"
      ],
      "execution_count": 0,
      "outputs": []
    },
    {
      "cell_type": "code",
      "metadata": {
        "id": "XWX1AVLP1hvb",
        "colab_type": "code",
        "colab": {}
      },
      "source": [
        "bigdfobj = pd.merge(bigdfobj,train,how=\"left\",on=[\"acc\",\"date\",\"pid\"])"
      ],
      "execution_count": 0,
      "outputs": []
    },
    {
      "cell_type": "code",
      "metadata": {
        "id": "s12up_RVgOIs",
        "colab_type": "code",
        "colab": {}
      },
      "source": [
        "bigdfobj.target.fillna(0,inplace=True)"
      ],
      "execution_count": 0,
      "outputs": []
    },
    {
      "cell_type": "code",
      "metadata": {
        "id": "RTQVdITEI4xA",
        "colab_type": "code",
        "outputId": "38fcb748-81d5-4144-ebe7-f0e5d5b02442",
        "colab": {
          "base_uri": "https://localhost:8080/",
          "height": 102
        }
      },
      "source": [
        "bigdfobj.dtypes"
      ],
      "execution_count": 0,
      "outputs": [
        {
          "output_type": "execute_result",
          "data": {
            "text/plain": [
              "acc                int64\n",
              "date      datetime64[ns]\n",
              "pid               object\n",
              "target           float64\n",
              "dtype: object"
            ]
          },
          "metadata": {
            "tags": []
          },
          "execution_count": 31
        }
      ]
    },
    {
      "cell_type": "code",
      "metadata": {
        "id": "zA4PBhX4JE3i",
        "colab_type": "code",
        "colab": {}
      },
      "source": [
        "bigdfobj[\"year\"] = bigdfobj.date.apply(lambda x : x.year)\n",
        "bigdfobj[\"month\"] = bigdfobj.date.apply(lambda x : x.month)\n",
        "bigdfobj[\"day\"] = bigdfobj.date.apply(lambda x : x.day)\n"
      ],
      "execution_count": 0,
      "outputs": []
    },
    {
      "cell_type": "code",
      "metadata": {
        "id": "wk6vwolrWKGA",
        "colab_type": "code",
        "colab": {}
      },
      "source": [
        "# train = train.assign(year =  train.date.dt.year, month = train.date.dt.month ,day = train.date.dt.day) "
      ],
      "execution_count": 0,
      "outputs": []
    },
    {
      "cell_type": "code",
      "metadata": {
        "id": "WiSu-H8BJj1v",
        "colab_type": "code",
        "outputId": "db0781f6-b49d-46c3-f0b7-9096507cb7d1",
        "colab": {
          "base_uri": "https://localhost:8080/",
          "height": 68
        }
      },
      "source": [
        "bigdfobj.target.value_counts()/len(bigdfobj)"
      ],
      "execution_count": 0,
      "outputs": [
        {
          "output_type": "execute_result",
          "data": {
            "text/plain": [
              "0.0    0.993405\n",
              "1.0    0.006595\n",
              "Name: target, dtype: float64"
            ]
          },
          "metadata": {
            "tags": []
          },
          "execution_count": 33
        }
      ]
    },
    {
      "cell_type": "code",
      "metadata": {
        "id": "Br3IWegwJ27i",
        "colab_type": "code",
        "colab": {}
      },
      "source": [
        "enc = LabelEncoder()\n",
        "enc.fit(train.pid.unique())\n",
        "bigdfobj.pid = enc.transform(bigdfobj.pid)\n"
      ],
      "execution_count": 0,
      "outputs": []
    },
    {
      "cell_type": "code",
      "metadata": {
        "id": "ehw0yx-nJfUI",
        "colab_type": "code",
        "colab": {}
      },
      "source": [
        "# bigdfobj.to_pickle(\"bigdf1encoded.pkl\")"
      ],
      "execution_count": 0,
      "outputs": []
    },
    {
      "cell_type": "code",
      "metadata": {
        "id": "LggqQ7Q5LxfG",
        "colab_type": "code",
        "colab": {}
      },
      "source": [
        "from sklearn.naive_bayes import GaussianNB"
      ],
      "execution_count": 0,
      "outputs": []
    },
    {
      "cell_type": "code",
      "metadata": {
        "id": "7cT2Tf7FOMQ5",
        "colab_type": "code",
        "outputId": "b41ad56d-0959-4367-9445-56290929f104",
        "colab": {
          "base_uri": "https://localhost:8080/",
          "height": 34
        }
      },
      "source": [
        ""
      ],
      "execution_count": 0,
      "outputs": [
        {
          "output_type": "execute_result",
          "data": {
            "text/plain": [
              "Index(['acc', 'year', 'month', 'day', 'pid', 'target'], dtype='object')"
            ]
          },
          "metadata": {
            "tags": []
          },
          "execution_count": 81
        }
      ]
    },
    {
      "cell_type": "code",
      "metadata": {
        "id": "s4A4LTOHObOt",
        "colab_type": "code",
        "colab": {}
      },
      "source": [
        "\n",
        "for i in[11,12,1,2]:\n",
        "  bigdfobj[bigdfobj.month == i].sort_values(\"day\",inplace=True) "
      ],
      "execution_count": 0,
      "outputs": []
    },
    {
      "cell_type": "code",
      "metadata": {
        "id": "B236iqRHO_xk",
        "colab_type": "code",
        "colab": {}
      },
      "source": [
        "# bigdfobj.to_pickle(\"bigdfsort1.pkl\")"
      ],
      "execution_count": 0,
      "outputs": []
    },
    {
      "cell_type": "code",
      "metadata": {
        "id": "9ptR6ZuHgPE1",
        "colab_type": "code",
        "outputId": "976af782-6736-47d3-edeb-5c877adacb57",
        "colab": {
          "base_uri": "https://localhost:8080/",
          "height": 34
        }
      },
      "source": [
        "len(train.acc.value_counts())"
      ],
      "execution_count": 0,
      "outputs": [
        {
          "output_type": "execute_result",
          "data": {
            "text/plain": [
              "2594"
            ]
          },
          "metadata": {
            "tags": []
          },
          "execution_count": 17
        }
      ]
    },
    {
      "cell_type": "code",
      "metadata": {
        "id": "QFbNceJwfffK",
        "colab_type": "code",
        "colab": {}
      },
      "source": [
        ""
      ],
      "execution_count": 0,
      "outputs": []
    },
    {
      "cell_type": "code",
      "metadata": {
        "id": "DL2OSfQQdP3j",
        "colab_type": "code",
        "outputId": "a14c3a82-04c4-4584-dd14-95243415412f",
        "colab": {
          "base_uri": "https://localhost:8080/",
          "height": 51
        }
      },
      "source": [
        "categories.Category.unique()"
      ],
      "execution_count": 0,
      "outputs": [
        {
          "output_type": "execute_result",
          "data": {
            "text/plain": [
              "array(['CASHBACK', 'AIRTIME_DATA', 'MOBILE_MONEY', 'AIRTIME', 'UTILITIES',\n",
              "       'ENTERTAINMENT', 'OTHER'], dtype=object)"
            ]
          },
          "metadata": {
            "tags": []
          },
          "execution_count": 23
        }
      ]
    },
    {
      "cell_type": "code",
      "metadata": {
        "id": "9tVrUMeAaGT5",
        "colab_type": "code",
        "colab": {}
      },
      "source": [
        "train = train.merge(categories)"
      ],
      "execution_count": 0,
      "outputs": []
    },
    {
      "cell_type": "code",
      "metadata": {
        "id": "EEcWdFocsug8",
        "colab_type": "code",
        "outputId": "01a84416-bbec-4ce2-a257-edbb47bd3b9a",
        "colab": {
          "base_uri": "https://localhost:8080/",
          "height": 419
        }
      },
      "source": [
        "train "
      ],
      "execution_count": 0,
      "outputs": [
        {
          "output_type": "execute_result",
          "data": {
            "text/html": [
              "<div>\n",
              "<style scoped>\n",
              "    .dataframe tbody tr th:only-of-type {\n",
              "        vertical-align: middle;\n",
              "    }\n",
              "\n",
              "    .dataframe tbody tr th {\n",
              "        vertical-align: top;\n",
              "    }\n",
              "\n",
              "    .dataframe thead th {\n",
              "        text-align: right;\n",
              "    }\n",
              "</style>\n",
              "<table border=\"1\" class=\"dataframe\">\n",
              "  <thead>\n",
              "    <tr style=\"text-align: right;\">\n",
              "      <th></th>\n",
              "      <th>date</th>\n",
              "      <th>acc</th>\n",
              "      <th>PID</th>\n",
              "      <th>year</th>\n",
              "      <th>month</th>\n",
              "      <th>day</th>\n",
              "      <th>weekday</th>\n",
              "      <th>Category</th>\n",
              "    </tr>\n",
              "  </thead>\n",
              "  <tbody>\n",
              "    <tr>\n",
              "      <th>0</th>\n",
              "      <td>2019-12-13 11:38:33.226</td>\n",
              "      <td>256787571627</td>\n",
              "      <td>80G0</td>\n",
              "      <td>2019</td>\n",
              "      <td>12</td>\n",
              "      <td>13</td>\n",
              "      <td>4</td>\n",
              "      <td>AIRTIME_DATA</td>\n",
              "    </tr>\n",
              "    <tr>\n",
              "      <th>1</th>\n",
              "      <td>2019-11-15 09:16:06.591</td>\n",
              "      <td>256704005298</td>\n",
              "      <td>80G0</td>\n",
              "      <td>2019</td>\n",
              "      <td>11</td>\n",
              "      <td>15</td>\n",
              "      <td>4</td>\n",
              "      <td>AIRTIME_DATA</td>\n",
              "    </tr>\n",
              "    <tr>\n",
              "      <th>2</th>\n",
              "      <td>2019-11-19 19:51:59.545</td>\n",
              "      <td>256701950144</td>\n",
              "      <td>80G0</td>\n",
              "      <td>2019</td>\n",
              "      <td>11</td>\n",
              "      <td>19</td>\n",
              "      <td>1</td>\n",
              "      <td>AIRTIME_DATA</td>\n",
              "    </tr>\n",
              "    <tr>\n",
              "      <th>3</th>\n",
              "      <td>2019-12-12 11:41:13.059</td>\n",
              "      <td>256702173540</td>\n",
              "      <td>80G0</td>\n",
              "      <td>2019</td>\n",
              "      <td>12</td>\n",
              "      <td>12</td>\n",
              "      <td>3</td>\n",
              "      <td>AIRTIME_DATA</td>\n",
              "    </tr>\n",
              "    <tr>\n",
              "      <th>4</th>\n",
              "      <td>2019-12-27 18:17:24.438</td>\n",
              "      <td>256779600475</td>\n",
              "      <td>80G0</td>\n",
              "      <td>2019</td>\n",
              "      <td>12</td>\n",
              "      <td>27</td>\n",
              "      <td>4</td>\n",
              "      <td>AIRTIME_DATA</td>\n",
              "    </tr>\n",
              "    <tr>\n",
              "      <th>...</th>\n",
              "      <td>...</td>\n",
              "      <td>...</td>\n",
              "      <td>...</td>\n",
              "      <td>...</td>\n",
              "      <td>...</td>\n",
              "      <td>...</td>\n",
              "      <td>...</td>\n",
              "      <td>...</td>\n",
              "    </tr>\n",
              "    <tr>\n",
              "      <th>66509</th>\n",
              "      <td>2020-02-03 00:38:08.263</td>\n",
              "      <td>256751875343</td>\n",
              "      <td>WZF8</td>\n",
              "      <td>2020</td>\n",
              "      <td>2</td>\n",
              "      <td>3</td>\n",
              "      <td>0</td>\n",
              "      <td>AIRTIME_DATA</td>\n",
              "    </tr>\n",
              "    <tr>\n",
              "      <th>66510</th>\n",
              "      <td>2020-02-03 09:19:24.799</td>\n",
              "      <td>256705268336</td>\n",
              "      <td>WZF8</td>\n",
              "      <td>2020</td>\n",
              "      <td>2</td>\n",
              "      <td>3</td>\n",
              "      <td>0</td>\n",
              "      <td>AIRTIME_DATA</td>\n",
              "    </tr>\n",
              "    <tr>\n",
              "      <th>66511</th>\n",
              "      <td>2020-02-04 18:13:39.612</td>\n",
              "      <td>256702381226</td>\n",
              "      <td>WZF8</td>\n",
              "      <td>2020</td>\n",
              "      <td>2</td>\n",
              "      <td>4</td>\n",
              "      <td>1</td>\n",
              "      <td>AIRTIME_DATA</td>\n",
              "    </tr>\n",
              "    <tr>\n",
              "      <th>66512</th>\n",
              "      <td>2020-02-04 21:39:08.131</td>\n",
              "      <td>256751875343</td>\n",
              "      <td>WZF8</td>\n",
              "      <td>2020</td>\n",
              "      <td>2</td>\n",
              "      <td>4</td>\n",
              "      <td>1</td>\n",
              "      <td>AIRTIME_DATA</td>\n",
              "    </tr>\n",
              "    <tr>\n",
              "      <th>66513</th>\n",
              "      <td>2020-02-18 18:20:41.041</td>\n",
              "      <td>256702381226</td>\n",
              "      <td>WZF8</td>\n",
              "      <td>2020</td>\n",
              "      <td>2</td>\n",
              "      <td>18</td>\n",
              "      <td>1</td>\n",
              "      <td>AIRTIME_DATA</td>\n",
              "    </tr>\n",
              "  </tbody>\n",
              "</table>\n",
              "<p>66514 rows × 8 columns</p>\n",
              "</div>"
            ],
            "text/plain": [
              "                         date           acc   PID  ...  day  weekday      Category\n",
              "0     2019-12-13 11:38:33.226  256787571627  80G0  ...   13        4  AIRTIME_DATA\n",
              "1     2019-11-15 09:16:06.591  256704005298  80G0  ...   15        4  AIRTIME_DATA\n",
              "2     2019-11-19 19:51:59.545  256701950144  80G0  ...   19        1  AIRTIME_DATA\n",
              "3     2019-12-12 11:41:13.059  256702173540  80G0  ...   12        3  AIRTIME_DATA\n",
              "4     2019-12-27 18:17:24.438  256779600475  80G0  ...   27        4  AIRTIME_DATA\n",
              "...                       ...           ...   ...  ...  ...      ...           ...\n",
              "66509 2020-02-03 00:38:08.263  256751875343  WZF8  ...    3        0  AIRTIME_DATA\n",
              "66510 2020-02-03 09:19:24.799  256705268336  WZF8  ...    3        0  AIRTIME_DATA\n",
              "66511 2020-02-04 18:13:39.612  256702381226  WZF8  ...    4        1  AIRTIME_DATA\n",
              "66512 2020-02-04 21:39:08.131  256751875343  WZF8  ...    4        1  AIRTIME_DATA\n",
              "66513 2020-02-18 18:20:41.041  256702381226  WZF8  ...   18        1  AIRTIME_DATA\n",
              "\n",
              "[66514 rows x 8 columns]"
            ]
          },
          "metadata": {
            "tags": []
          },
          "execution_count": 26
        }
      ]
    },
    {
      "cell_type": "code",
      "metadata": {
        "id": "R0aTKMB0dry4",
        "colab_type": "code",
        "outputId": "4d9e5652-dcee-4e89-e515-171c05201af9",
        "colab": {
          "base_uri": "https://localhost:8080/",
          "height": 197
        }
      },
      "source": [
        "train , _ , _ = AllEncoder(train ,train , train,'h' ,['Category'])\n",
        "train.head()"
      ],
      "execution_count": 0,
      "outputs": [
        {
          "output_type": "execute_result",
          "data": {
            "text/html": [
              "<div>\n",
              "<style scoped>\n",
              "    .dataframe tbody tr th:only-of-type {\n",
              "        vertical-align: middle;\n",
              "    }\n",
              "\n",
              "    .dataframe tbody tr th {\n",
              "        vertical-align: top;\n",
              "    }\n",
              "\n",
              "    .dataframe thead th {\n",
              "        text-align: right;\n",
              "    }\n",
              "</style>\n",
              "<table border=\"1\" class=\"dataframe\">\n",
              "  <thead>\n",
              "    <tr style=\"text-align: right;\">\n",
              "      <th></th>\n",
              "      <th>date</th>\n",
              "      <th>acc</th>\n",
              "      <th>PID</th>\n",
              "      <th>year</th>\n",
              "      <th>month</th>\n",
              "      <th>day</th>\n",
              "      <th>weekday</th>\n",
              "      <th>0</th>\n",
              "      <th>1</th>\n",
              "      <th>2</th>\n",
              "      <th>3</th>\n",
              "      <th>4</th>\n",
              "      <th>5</th>\n",
              "    </tr>\n",
              "  </thead>\n",
              "  <tbody>\n",
              "    <tr>\n",
              "      <th>39080</th>\n",
              "      <td>2019-11-01 00:38:59.418</td>\n",
              "      <td>256702177173</td>\n",
              "      <td>U1DD</td>\n",
              "      <td>2019</td>\n",
              "      <td>11</td>\n",
              "      <td>1</td>\n",
              "      <td>4</td>\n",
              "      <td>0.0</td>\n",
              "      <td>0.0</td>\n",
              "      <td>0.0</td>\n",
              "      <td>1.0</td>\n",
              "      <td>0.0</td>\n",
              "      <td>0.0</td>\n",
              "    </tr>\n",
              "    <tr>\n",
              "      <th>26937</th>\n",
              "      <td>2020-01-01 08:06:06.433</td>\n",
              "      <td>256701433663</td>\n",
              "      <td>WLIW</td>\n",
              "      <td>2020</td>\n",
              "      <td>1</td>\n",
              "      <td>1</td>\n",
              "      <td>2</td>\n",
              "      <td>0.0</td>\n",
              "      <td>1.0</td>\n",
              "      <td>0.0</td>\n",
              "      <td>0.0</td>\n",
              "      <td>0.0</td>\n",
              "      <td>0.0</td>\n",
              "    </tr>\n",
              "    <tr>\n",
              "      <th>23023</th>\n",
              "      <td>2020-01-01 08:06:13.834</td>\n",
              "      <td>256701433663</td>\n",
              "      <td>WLIW</td>\n",
              "      <td>2020</td>\n",
              "      <td>1</td>\n",
              "      <td>1</td>\n",
              "      <td>2</td>\n",
              "      <td>0.0</td>\n",
              "      <td>1.0</td>\n",
              "      <td>0.0</td>\n",
              "      <td>0.0</td>\n",
              "      <td>0.0</td>\n",
              "      <td>0.0</td>\n",
              "    </tr>\n",
              "    <tr>\n",
              "      <th>26938</th>\n",
              "      <td>2020-01-01 08:06:31.214</td>\n",
              "      <td>256756616917</td>\n",
              "      <td>WLIW</td>\n",
              "      <td>2020</td>\n",
              "      <td>1</td>\n",
              "      <td>1</td>\n",
              "      <td>2</td>\n",
              "      <td>0.0</td>\n",
              "      <td>1.0</td>\n",
              "      <td>0.0</td>\n",
              "      <td>0.0</td>\n",
              "      <td>0.0</td>\n",
              "      <td>0.0</td>\n",
              "    </tr>\n",
              "    <tr>\n",
              "      <th>12536</th>\n",
              "      <td>2020-01-01 08:06:38.109</td>\n",
              "      <td>256756616917</td>\n",
              "      <td>WLIW</td>\n",
              "      <td>2020</td>\n",
              "      <td>1</td>\n",
              "      <td>1</td>\n",
              "      <td>2</td>\n",
              "      <td>0.0</td>\n",
              "      <td>1.0</td>\n",
              "      <td>0.0</td>\n",
              "      <td>0.0</td>\n",
              "      <td>0.0</td>\n",
              "      <td>0.0</td>\n",
              "    </tr>\n",
              "  </tbody>\n",
              "</table>\n",
              "</div>"
            ],
            "text/plain": [
              "                         date           acc   PID  year  ...    2    3    4    5\n",
              "39080 2019-11-01 00:38:59.418  256702177173  U1DD  2019  ...  0.0  1.0  0.0  0.0\n",
              "26937 2020-01-01 08:06:06.433  256701433663  WLIW  2020  ...  0.0  0.0  0.0  0.0\n",
              "23023 2020-01-01 08:06:13.834  256701433663  WLIW  2020  ...  0.0  0.0  0.0  0.0\n",
              "26938 2020-01-01 08:06:31.214  256756616917  WLIW  2020  ...  0.0  0.0  0.0  0.0\n",
              "12536 2020-01-01 08:06:38.109  256756616917  WLIW  2020  ...  0.0  0.0  0.0  0.0\n",
              "\n",
              "[5 rows x 13 columns]"
            ]
          },
          "metadata": {
            "tags": []
          },
          "execution_count": 75
        }
      ]
    },
    {
      "cell_type": "code",
      "metadata": {
        "id": "bItA5-rQtlhh",
        "colab_type": "code",
        "outputId": "ea43512f-6aa4-4fee-92c4-5df3f1cd72c4",
        "colab": {
          "base_uri": "https://localhost:8080/",
          "height": 419
        }
      },
      "source": [
        "train"
      ],
      "execution_count": 0,
      "outputs": [
        {
          "output_type": "execute_result",
          "data": {
            "text/html": [
              "<div>\n",
              "<style scoped>\n",
              "    .dataframe tbody tr th:only-of-type {\n",
              "        vertical-align: middle;\n",
              "    }\n",
              "\n",
              "    .dataframe tbody tr th {\n",
              "        vertical-align: top;\n",
              "    }\n",
              "\n",
              "    .dataframe thead th {\n",
              "        text-align: right;\n",
              "    }\n",
              "</style>\n",
              "<table border=\"1\" class=\"dataframe\">\n",
              "  <thead>\n",
              "    <tr style=\"text-align: right;\">\n",
              "      <th></th>\n",
              "      <th>date</th>\n",
              "      <th>acc</th>\n",
              "      <th>PID</th>\n",
              "      <th>year</th>\n",
              "      <th>month</th>\n",
              "      <th>day</th>\n",
              "      <th>weekday</th>\n",
              "      <th>Category</th>\n",
              "    </tr>\n",
              "  </thead>\n",
              "  <tbody>\n",
              "    <tr>\n",
              "      <th>0</th>\n",
              "      <td>2019-12-13 11:38:33.226</td>\n",
              "      <td>256787571627</td>\n",
              "      <td>80G0</td>\n",
              "      <td>2019</td>\n",
              "      <td>12</td>\n",
              "      <td>13</td>\n",
              "      <td>4</td>\n",
              "      <td>AIRTIME_DATA</td>\n",
              "    </tr>\n",
              "    <tr>\n",
              "      <th>1</th>\n",
              "      <td>2019-11-15 09:16:06.591</td>\n",
              "      <td>256704005298</td>\n",
              "      <td>80G0</td>\n",
              "      <td>2019</td>\n",
              "      <td>11</td>\n",
              "      <td>15</td>\n",
              "      <td>4</td>\n",
              "      <td>AIRTIME_DATA</td>\n",
              "    </tr>\n",
              "    <tr>\n",
              "      <th>2</th>\n",
              "      <td>2019-11-19 19:51:59.545</td>\n",
              "      <td>256701950144</td>\n",
              "      <td>80G0</td>\n",
              "      <td>2019</td>\n",
              "      <td>11</td>\n",
              "      <td>19</td>\n",
              "      <td>1</td>\n",
              "      <td>AIRTIME_DATA</td>\n",
              "    </tr>\n",
              "    <tr>\n",
              "      <th>3</th>\n",
              "      <td>2019-12-12 11:41:13.059</td>\n",
              "      <td>256702173540</td>\n",
              "      <td>80G0</td>\n",
              "      <td>2019</td>\n",
              "      <td>12</td>\n",
              "      <td>12</td>\n",
              "      <td>3</td>\n",
              "      <td>AIRTIME_DATA</td>\n",
              "    </tr>\n",
              "    <tr>\n",
              "      <th>4</th>\n",
              "      <td>2019-12-27 18:17:24.438</td>\n",
              "      <td>256779600475</td>\n",
              "      <td>80G0</td>\n",
              "      <td>2019</td>\n",
              "      <td>12</td>\n",
              "      <td>27</td>\n",
              "      <td>4</td>\n",
              "      <td>AIRTIME_DATA</td>\n",
              "    </tr>\n",
              "    <tr>\n",
              "      <th>...</th>\n",
              "      <td>...</td>\n",
              "      <td>...</td>\n",
              "      <td>...</td>\n",
              "      <td>...</td>\n",
              "      <td>...</td>\n",
              "      <td>...</td>\n",
              "      <td>...</td>\n",
              "      <td>...</td>\n",
              "    </tr>\n",
              "    <tr>\n",
              "      <th>66509</th>\n",
              "      <td>2020-02-03 00:38:08.263</td>\n",
              "      <td>256751875343</td>\n",
              "      <td>WZF8</td>\n",
              "      <td>2020</td>\n",
              "      <td>2</td>\n",
              "      <td>3</td>\n",
              "      <td>0</td>\n",
              "      <td>AIRTIME_DATA</td>\n",
              "    </tr>\n",
              "    <tr>\n",
              "      <th>66510</th>\n",
              "      <td>2020-02-03 09:19:24.799</td>\n",
              "      <td>256705268336</td>\n",
              "      <td>WZF8</td>\n",
              "      <td>2020</td>\n",
              "      <td>2</td>\n",
              "      <td>3</td>\n",
              "      <td>0</td>\n",
              "      <td>AIRTIME_DATA</td>\n",
              "    </tr>\n",
              "    <tr>\n",
              "      <th>66511</th>\n",
              "      <td>2020-02-04 18:13:39.612</td>\n",
              "      <td>256702381226</td>\n",
              "      <td>WZF8</td>\n",
              "      <td>2020</td>\n",
              "      <td>2</td>\n",
              "      <td>4</td>\n",
              "      <td>1</td>\n",
              "      <td>AIRTIME_DATA</td>\n",
              "    </tr>\n",
              "    <tr>\n",
              "      <th>66512</th>\n",
              "      <td>2020-02-04 21:39:08.131</td>\n",
              "      <td>256751875343</td>\n",
              "      <td>WZF8</td>\n",
              "      <td>2020</td>\n",
              "      <td>2</td>\n",
              "      <td>4</td>\n",
              "      <td>1</td>\n",
              "      <td>AIRTIME_DATA</td>\n",
              "    </tr>\n",
              "    <tr>\n",
              "      <th>66513</th>\n",
              "      <td>2020-02-18 18:20:41.041</td>\n",
              "      <td>256702381226</td>\n",
              "      <td>WZF8</td>\n",
              "      <td>2020</td>\n",
              "      <td>2</td>\n",
              "      <td>18</td>\n",
              "      <td>1</td>\n",
              "      <td>AIRTIME_DATA</td>\n",
              "    </tr>\n",
              "  </tbody>\n",
              "</table>\n",
              "<p>66514 rows × 8 columns</p>\n",
              "</div>"
            ],
            "text/plain": [
              "                         date           acc   PID  ...  day  weekday      Category\n",
              "0     2019-12-13 11:38:33.226  256787571627  80G0  ...   13        4  AIRTIME_DATA\n",
              "1     2019-11-15 09:16:06.591  256704005298  80G0  ...   15        4  AIRTIME_DATA\n",
              "2     2019-11-19 19:51:59.545  256701950144  80G0  ...   19        1  AIRTIME_DATA\n",
              "3     2019-12-12 11:41:13.059  256702173540  80G0  ...   12        3  AIRTIME_DATA\n",
              "4     2019-12-27 18:17:24.438  256779600475  80G0  ...   27        4  AIRTIME_DATA\n",
              "...                       ...           ...   ...  ...  ...      ...           ...\n",
              "66509 2020-02-03 00:38:08.263  256751875343  WZF8  ...    3        0  AIRTIME_DATA\n",
              "66510 2020-02-03 09:19:24.799  256705268336  WZF8  ...    3        0  AIRTIME_DATA\n",
              "66511 2020-02-04 18:13:39.612  256702381226  WZF8  ...    4        1  AIRTIME_DATA\n",
              "66512 2020-02-04 21:39:08.131  256751875343  WZF8  ...    4        1  AIRTIME_DATA\n",
              "66513 2020-02-18 18:20:41.041  256702381226  WZF8  ...   18        1  AIRTIME_DATA\n",
              "\n",
              "[66514 rows x 8 columns]"
            ]
          },
          "metadata": {
            "tags": []
          },
          "execution_count": 27
        }
      ]
    },
    {
      "cell_type": "code",
      "metadata": {
        "id": "tR6wU807l19t",
        "colab_type": "code",
        "outputId": "f7bff447-f99e-4603-a9b8-cc66015a55f2",
        "colab": {
          "base_uri": "https://localhost:8080/",
          "height": 34
        }
      },
      "source": [
        "train.PID.nunique()"
      ],
      "execution_count": 0,
      "outputs": [
        {
          "output_type": "execute_result",
          "data": {
            "text/plain": [
              "34"
            ]
          },
          "metadata": {
            "tags": []
          },
          "execution_count": 78
        }
      ]
    },
    {
      "cell_type": "markdown",
      "metadata": {
        "id": "bbLb7Wf2bATa",
        "colab_type": "text"
      },
      "source": [
        "# Encodnig"
      ]
    },
    {
      "cell_type": "code",
      "metadata": {
        "id": "oN1IQE0VbB_7",
        "colab_type": "code",
        "colab": {}
      },
      "source": [
        "def AllEncoder(train,validation,test ,entype,cols_index):\n",
        "\n",
        "  encoder = None\n",
        "  if entype == \"l\": \n",
        "    lab_enc = LabelEncoder()\n",
        "    for col_index in cols_index :\n",
        "      train[col_index] = lab_enc.fit_transform(train[col_index])\n",
        "      validation[col_index] = lab_enc.transform(validation[col_index])\n",
        "      test[col_index] = lab_enc.transform(test[col_index])        \n",
        "\n",
        "  elif entype == \"h\" :\n",
        "     oh_enc = OneHotEncoder(handle_unknown = 'ignore' , sparse = False)\n",
        "     OH_cols_train = pd.DataFrame(oh_enc.fit_transform(train[cols_index]))\n",
        "     OH_cols_valid = pd.DataFrame(oh_enc.transform(validation[cols_index]))\n",
        "     OH_cols_test = pd.DataFrame(oh_enc.transform(test[cols_index]))\n",
        "     OH_cols_train.index = train.index\n",
        "     OH_cols_valid.index = validation.index\n",
        "     OH_cols_test.index = test.index\n",
        "     numerical_train = train.drop(cols_index , axis = 1)\n",
        "     numerical_valid = validation.drop(cols_index , axis = 1)\n",
        "     numerical_test = test.drop(cols_index , axis = 1)\n",
        "     train = pd.concat([numerical_train , OH_cols_train], axis = 1 ) \n",
        "     validation = pd.concat([numerical_valid , OH_cols_valid] , axis = 1)\n",
        "     test = pd.concat([numerical_test , OH_cols_test] , axis = 1)\n",
        "  elif entype == \"m\" :\n",
        "       \n",
        "    #mean encoding\n",
        "    from sklearn.model_selection import KFold\n",
        "    kf = KFold(n_splits = 5 , shuffle = False )\n",
        "    for train_index , val_index in kf.split(df) :\n",
        "        X_train , X_val = df.iloc[train_index] , df.iloc[val_index]\n",
        "        df.loc[val_index,'item_target_enc'] = X_val['item_id'].map(X_train.groupby('item_id')['item_cnt_month'].mean())\n",
        "    df['item_target_enc'].fillna(base.item_cnt_month.mean(), inplace=True)\n",
        "\n",
        "\n",
        "  else : \n",
        "      print(\"use h , l or m for entype\")\n",
        "    \n",
        "    \n",
        "  return  train,validation,test\n",
        "\n",
        "\n"
      ],
      "execution_count": 0,
      "outputs": []
    },
    {
      "cell_type": "code",
      "metadata": {
        "id": "M1hTzV5XbDRq",
        "colab_type": "code",
        "colab": {}
      },
      "source": [
        "def handle_bad_cols(trainx,val_test):\n",
        "  object_cols = [col for col in trainx.columns if trainx[col].dtype == 'object'] \n",
        "  good_label_cols = [col for col in object_cols if set(trainx[col]) == set(val_test[col]) ]\n",
        "  bad_label_cols = list( set(object_cols) - set(good_label_cols) )\n",
        "  for i in bad_label_cols:\n",
        "    most = trainx[i].value_counts().index[0]\n",
        "    labels = trainx[i].unique()\n",
        "    val_test[i] = val_test[i].apply(lambda x : x if x in labels else most)\n",
        "  return val_test\n"
      ],
      "execution_count": 0,
      "outputs": []
    },
    {
      "cell_type": "code",
      "metadata": {
        "id": "nfzOqp8PbGld",
        "colab_type": "code",
        "colab": {}
      },
      "source": [
        "categories.rename(columns={\"PID\":\"pid\"},inplace=True)"
      ],
      "execution_count": 0,
      "outputs": []
    },
    {
      "cell_type": "code",
      "metadata": {
        "id": "RnymDSTko_zN",
        "colab_type": "code",
        "outputId": "49f18160-d2db-4944-ec8a-bebb85b166ba",
        "colab": {
          "base_uri": "https://localhost:8080/",
          "height": 221
        }
      },
      "source": [
        "bigdfobj.pid"
      ],
      "execution_count": 0,
      "outputs": [
        {
          "output_type": "execute_result",
          "data": {
            "text/plain": [
              "0           U1DD\n",
              "1           CPEH\n",
              "2           3USE\n",
              "3           P7R7\n",
              "4           49DG\n",
              "            ... \n",
              "10085799    WLIW\n",
              "10085800    T0LZ\n",
              "10085801    Q9SJ\n",
              "10085802    AWYV\n",
              "10085803    WZF8\n",
              "Name: pid, Length: 10085804, dtype: object"
            ]
          },
          "metadata": {
            "tags": []
          },
          "execution_count": 145
        }
      ]
    },
    {
      "cell_type": "code",
      "metadata": {
        "id": "nv194sjqc5sK",
        "colab_type": "code",
        "colab": {}
      },
      "source": [
        "bigdfobj = pd.merge(bigdfobj,categories,how=\"left\")"
      ],
      "execution_count": 0,
      "outputs": []
    },
    {
      "cell_type": "code",
      "metadata": {
        "id": "72RG6RIbbaOJ",
        "colab_type": "code",
        "colab": {}
      },
      "source": [
        "data = pd.read_pickle(\"bigdf.pkl\")"
      ],
      "execution_count": 0,
      "outputs": []
    },
    {
      "cell_type": "code",
      "metadata": {
        "id": "hDjOtvQyoNKC",
        "colab_type": "code",
        "colab": {}
      },
      "source": [
        "train[\"target\"] = 1\n",
        "data = pd.merge(data,train,how=\"left\", on=[\"acc\",\"date\",\"pid\"])"
      ],
      "execution_count": 0,
      "outputs": []
    },
    {
      "cell_type": "code",
      "metadata": {
        "id": "74uaTljYufwd",
        "colab_type": "code",
        "colab": {}
      },
      "source": [
        "data.target.fillna(0,inplace=True)"
      ],
      "execution_count": 0,
      "outputs": []
    },
    {
      "cell_type": "code",
      "metadata": {
        "id": "bX7sC4H3u2zj",
        "colab_type": "code",
        "outputId": "ef23eb9b-f4db-46be-c0ae-fe865ad3f694",
        "colab": {
          "base_uri": "https://localhost:8080/",
          "height": 34
        }
      },
      "source": [
        "data.target.sum()"
      ],
      "execution_count": 0,
      "outputs": [
        {
          "output_type": "execute_result",
          "data": {
            "text/plain": [
              "66514.0"
            ]
          },
          "metadata": {
            "tags": []
          },
          "execution_count": 183
        }
      ]
    },
    {
      "cell_type": "markdown",
      "metadata": {
        "id": "0LA9tcAubTHs",
        "colab_type": "text"
      },
      "source": [
        "# Base Model "
      ]
    },
    {
      "cell_type": "code",
      "metadata": {
        "id": "sKwulpxsbDWE",
        "colab_type": "code",
        "colab": {}
      },
      "source": [
        "def get_data_splits(df , split_fraction = 0.2) :\n",
        "    \"\"\"\n",
        "    Splits a dataframe into 80% train, 20% validation but first order by the date_block_num. \n",
        "    \n",
        "    \"\"\"\n",
        "    #df = df.sort_values(by = 'date_block_num') #sort values by the date_clock_num so that the test set is the last period of time\n",
        "    num_of_rows = int(len(df) * split_fraction)\n",
        "    train = df[ :-num_of_rows ]\n",
        "    validation = df[-num_of_rows : ]\n",
        "    \n",
        "    return train, validation"
      ],
      "execution_count": 0,
      "outputs": []
    },
    {
      "cell_type": "code",
      "metadata": {
        "id": "MBCqTxLCbCC_",
        "colab_type": "code",
        "colab": {}
      },
      "source": [
        "traind, validation = get_data_splits(bigdfobj.drop(\"date\",axis=1))"
      ],
      "execution_count": 0,
      "outputs": []
    },
    {
      "cell_type": "code",
      "metadata": {
        "id": "TNui363lWnqK",
        "colab_type": "code",
        "outputId": "70e7aa50-22f4-4238-b36a-a0befce6e912",
        "colab": {
          "base_uri": "https://localhost:8080/",
          "height": 68
        }
      },
      "source": [
        "traind.target.value_counts()/len(traind)"
      ],
      "execution_count": 0,
      "outputs": [
        {
          "output_type": "execute_result",
          "data": {
            "text/plain": [
              "0.0    0.993294\n",
              "1.0    0.006706\n",
              "Name: target, dtype: float64"
            ]
          },
          "metadata": {
            "tags": []
          },
          "execution_count": 38
        }
      ]
    },
    {
      "cell_type": "code",
      "metadata": {
        "id": "tMmKJuYIWtbO",
        "colab_type": "code",
        "outputId": "4e1cead7-db90-49d1-fdfe-1257dae9a40d",
        "colab": {
          "base_uri": "https://localhost:8080/",
          "height": 68
        }
      },
      "source": [
        "validation.target.value_counts()/len(validation)"
      ],
      "execution_count": 0,
      "outputs": [
        {
          "output_type": "execute_result",
          "data": {
            "text/plain": [
              "0.0    0.993851\n",
              "1.0    0.006149\n",
              "Name: target, dtype: float64"
            ]
          },
          "metadata": {
            "tags": []
          },
          "execution_count": 39
        }
      ]
    },
    {
      "cell_type": "code",
      "metadata": {
        "id": "em1-tYBUWx1Y",
        "colab_type": "code",
        "outputId": "b28516f5-005a-43dc-a03a-49f9663cd9d9",
        "colab": {
          "base_uri": "https://localhost:8080/",
          "height": 419
        }
      },
      "source": [
        "X_train"
      ],
      "execution_count": 0,
      "outputs": [
        {
          "output_type": "execute_result",
          "data": {
            "text/html": [
              "<div>\n",
              "<style scoped>\n",
              "    .dataframe tbody tr th:only-of-type {\n",
              "        vertical-align: middle;\n",
              "    }\n",
              "\n",
              "    .dataframe tbody tr th {\n",
              "        vertical-align: top;\n",
              "    }\n",
              "\n",
              "    .dataframe thead th {\n",
              "        text-align: right;\n",
              "    }\n",
              "</style>\n",
              "<table border=\"1\" class=\"dataframe\">\n",
              "  <thead>\n",
              "    <tr style=\"text-align: right;\">\n",
              "      <th></th>\n",
              "      <th>acc</th>\n",
              "      <th>date</th>\n",
              "      <th>pid</th>\n",
              "      <th>year</th>\n",
              "      <th>month</th>\n",
              "      <th>day</th>\n",
              "    </tr>\n",
              "  </thead>\n",
              "  <tbody>\n",
              "    <tr>\n",
              "      <th>0</th>\n",
              "      <td>256702177173</td>\n",
              "      <td>2019-11-01</td>\n",
              "      <td>26</td>\n",
              "      <td>2019</td>\n",
              "      <td>11</td>\n",
              "      <td>1</td>\n",
              "    </tr>\n",
              "    <tr>\n",
              "      <th>1</th>\n",
              "      <td>256794989487</td>\n",
              "      <td>2019-11-01</td>\n",
              "      <td>14</td>\n",
              "      <td>2019</td>\n",
              "      <td>11</td>\n",
              "      <td>1</td>\n",
              "    </tr>\n",
              "    <tr>\n",
              "      <th>2</th>\n",
              "      <td>256794989487</td>\n",
              "      <td>2019-11-01</td>\n",
              "      <td>2</td>\n",
              "      <td>2019</td>\n",
              "      <td>11</td>\n",
              "      <td>1</td>\n",
              "    </tr>\n",
              "    <tr>\n",
              "      <th>3</th>\n",
              "      <td>256794989487</td>\n",
              "      <td>2019-11-01</td>\n",
              "      <td>21</td>\n",
              "      <td>2019</td>\n",
              "      <td>11</td>\n",
              "      <td>1</td>\n",
              "    </tr>\n",
              "    <tr>\n",
              "      <th>4</th>\n",
              "      <td>256794989487</td>\n",
              "      <td>2019-11-01</td>\n",
              "      <td>3</td>\n",
              "      <td>2019</td>\n",
              "      <td>11</td>\n",
              "      <td>1</td>\n",
              "    </tr>\n",
              "    <tr>\n",
              "      <th>...</th>\n",
              "      <td>...</td>\n",
              "      <td>...</td>\n",
              "      <td>...</td>\n",
              "      <td>...</td>\n",
              "      <td>...</td>\n",
              "      <td>...</td>\n",
              "    </tr>\n",
              "    <tr>\n",
              "      <th>8068639</th>\n",
              "      <td>256756758250</td>\n",
              "      <td>2020-01-31</td>\n",
              "      <td>24</td>\n",
              "      <td>2020</td>\n",
              "      <td>1</td>\n",
              "      <td>31</td>\n",
              "    </tr>\n",
              "    <tr>\n",
              "      <th>8068640</th>\n",
              "      <td>256771989756</td>\n",
              "      <td>2020-01-31</td>\n",
              "      <td>20</td>\n",
              "      <td>2020</td>\n",
              "      <td>1</td>\n",
              "      <td>31</td>\n",
              "    </tr>\n",
              "    <tr>\n",
              "      <th>8068641</th>\n",
              "      <td>256758728079</td>\n",
              "      <td>2020-01-31</td>\n",
              "      <td>0</td>\n",
              "      <td>2020</td>\n",
              "      <td>1</td>\n",
              "      <td>31</td>\n",
              "    </tr>\n",
              "    <tr>\n",
              "      <th>8068642</th>\n",
              "      <td>256758728079</td>\n",
              "      <td>2020-01-31</td>\n",
              "      <td>32</td>\n",
              "      <td>2020</td>\n",
              "      <td>1</td>\n",
              "      <td>31</td>\n",
              "    </tr>\n",
              "    <tr>\n",
              "      <th>8068643</th>\n",
              "      <td>256784431369</td>\n",
              "      <td>2020-01-31</td>\n",
              "      <td>12</td>\n",
              "      <td>2020</td>\n",
              "      <td>1</td>\n",
              "      <td>31</td>\n",
              "    </tr>\n",
              "  </tbody>\n",
              "</table>\n",
              "<p>8068644 rows × 6 columns</p>\n",
              "</div>"
            ],
            "text/plain": [
              "                  acc       date  pid  year  month  day\n",
              "0        256702177173 2019-11-01   26  2019     11    1\n",
              "1        256794989487 2019-11-01   14  2019     11    1\n",
              "2        256794989487 2019-11-01    2  2019     11    1\n",
              "3        256794989487 2019-11-01   21  2019     11    1\n",
              "4        256794989487 2019-11-01    3  2019     11    1\n",
              "...               ...        ...  ...   ...    ...  ...\n",
              "8068639  256756758250 2020-01-31   24  2020      1   31\n",
              "8068640  256771989756 2020-01-31   20  2020      1   31\n",
              "8068641  256758728079 2020-01-31    0  2020      1   31\n",
              "8068642  256758728079 2020-01-31   32  2020      1   31\n",
              "8068643  256784431369 2020-01-31   12  2020      1   31\n",
              "\n",
              "[8068644 rows x 6 columns]"
            ]
          },
          "metadata": {
            "tags": []
          },
          "execution_count": 43
        }
      ]
    },
    {
      "cell_type": "code",
      "metadata": {
        "id": "fXZgIZM8Xj2i",
        "colab_type": "code",
        "colab": {}
      },
      "source": [
        "from sklearn.metrics import f1_score\n",
        "from sklearn.tree import DecisionTreeClassifier"
      ],
      "execution_count": 0,
      "outputs": []
    },
    {
      "cell_type": "code",
      "metadata": {
        "id": "43t8dUOQcsfA",
        "colab_type": "code",
        "outputId": "58bf4897-3bcb-4752-972a-814e7ff9ce39",
        "colab": {
          "base_uri": "https://localhost:8080/",
          "height": 34
        }
      },
      "source": [
        "# trying some models and see which one is the best\n",
        "\n",
        "X_train = traind.drop('target' , axis = 1)\n",
        "y_train = traind.target\n",
        "\n",
        "X_val = validation.drop('target' , axis = 1)\n",
        "y_val = validation.target\n",
        "\n",
        "\n",
        "models = []\n",
        "# models.append(('XGB' , XGBRegressor()) )\n",
        "models.append((\"tree\", DecisionTreeClassifier()))\n",
        "# models.append(('RF' ,RandomForestRegressor(verbose = False ,random_state = 1) ))\n",
        "# models.append(('LR' ,LinearRegression() ))\n",
        "for name, model in models :\n",
        "    model.fit(X_train, y_train)\n",
        "    f1 = f1_score(model.predict(X_val), y_val )  \n",
        "    print(name ,\": \",f1 )\n",
        "\n"
      ],
      "execution_count": 0,
      "outputs": [
        {
          "output_type": "stream",
          "text": [
            "naive :  0.24889132220093074\n"
          ],
          "name": "stdout"
        }
      ]
    },
    {
      "cell_type": "code",
      "metadata": {
        "id": "03EANnfzd59I",
        "colab_type": "code",
        "colab": {}
      },
      "source": [
        "submission_clean = {\"acc\":[],\"date\":[],\"pid\":[]}\n",
        "for i in submission[\"Account X date X PID\"]:\n",
        "  d = i.split(\"X\") \n",
        "  submission_clean[\"acc\"].append(float(d[0]))\n",
        "  submission_clean[\"date\"].append(d[1].replace(\" \",\"\"))\n",
        "  submission_clean[\"pid\"].append(d[2].replace(\" \",\"\"))\n",
        "\n",
        "submission_clean = pd.DataFrame(submission_clean)"
      ],
      "execution_count": 0,
      "outputs": []
    },
    {
      "cell_type": "code",
      "metadata": {
        "id": "T-dueEOIf6K6",
        "colab_type": "code",
        "outputId": "05de35bb-16a1-49c8-f0cd-4ff5514ee49d",
        "colab": {
          "base_uri": "https://localhost:8080/",
          "height": 419
        }
      },
      "source": [
        "submission_clean"
      ],
      "execution_count": 0,
      "outputs": [
        {
          "output_type": "execute_result",
          "data": {
            "text/html": [
              "<div>\n",
              "<style scoped>\n",
              "    .dataframe tbody tr th:only-of-type {\n",
              "        vertical-align: middle;\n",
              "    }\n",
              "\n",
              "    .dataframe tbody tr th {\n",
              "        vertical-align: top;\n",
              "    }\n",
              "\n",
              "    .dataframe thead th {\n",
              "        text-align: right;\n",
              "    }\n",
              "</style>\n",
              "<table border=\"1\" class=\"dataframe\">\n",
              "  <thead>\n",
              "    <tr style=\"text-align: right;\">\n",
              "      <th></th>\n",
              "      <th>acc</th>\n",
              "      <th>date</th>\n",
              "      <th>pid</th>\n",
              "    </tr>\n",
              "  </thead>\n",
              "  <tbody>\n",
              "    <tr>\n",
              "      <th>0</th>\n",
              "      <td>2.567870e+11</td>\n",
              "      <td>2020-02-23</td>\n",
              "      <td>5YR6</td>\n",
              "    </tr>\n",
              "    <tr>\n",
              "      <th>1</th>\n",
              "      <td>2.567870e+11</td>\n",
              "      <td>2020-02-23</td>\n",
              "      <td>WLIW</td>\n",
              "    </tr>\n",
              "    <tr>\n",
              "      <th>2</th>\n",
              "      <td>2.567870e+11</td>\n",
              "      <td>2020-02-23</td>\n",
              "      <td>U1DD</td>\n",
              "    </tr>\n",
              "    <tr>\n",
              "      <th>3</th>\n",
              "      <td>2.567870e+11</td>\n",
              "      <td>2020-02-23</td>\n",
              "      <td>T0LZ</td>\n",
              "    </tr>\n",
              "    <tr>\n",
              "      <th>4</th>\n",
              "      <td>2.567870e+11</td>\n",
              "      <td>2020-02-23</td>\n",
              "      <td>80G0</td>\n",
              "    </tr>\n",
              "    <tr>\n",
              "      <th>...</th>\n",
              "      <td>...</td>\n",
              "      <td>...</td>\n",
              "      <td>...</td>\n",
              "    </tr>\n",
              "    <tr>\n",
              "      <th>111043</th>\n",
              "      <td>2.567047e+11</td>\n",
              "      <td>2020-02-29</td>\n",
              "      <td>P4IQ</td>\n",
              "    </tr>\n",
              "    <tr>\n",
              "      <th>111044</th>\n",
              "      <td>2.567047e+11</td>\n",
              "      <td>2020-02-29</td>\n",
              "      <td>PNYC</td>\n",
              "    </tr>\n",
              "    <tr>\n",
              "      <th>111045</th>\n",
              "      <td>2.567047e+11</td>\n",
              "      <td>2020-02-29</td>\n",
              "      <td>YDAG</td>\n",
              "    </tr>\n",
              "    <tr>\n",
              "      <th>111046</th>\n",
              "      <td>2.567047e+11</td>\n",
              "      <td>2020-02-29</td>\n",
              "      <td>ZDTG</td>\n",
              "    </tr>\n",
              "    <tr>\n",
              "      <th>111047</th>\n",
              "      <td>2.567047e+11</td>\n",
              "      <td>2020-02-29</td>\n",
              "      <td>7IPS</td>\n",
              "    </tr>\n",
              "  </tbody>\n",
              "</table>\n",
              "<p>111048 rows × 3 columns</p>\n",
              "</div>"
            ],
            "text/plain": [
              "                 acc        date   pid\n",
              "0       2.567870e+11  2020-02-23  5YR6\n",
              "1       2.567870e+11  2020-02-23  WLIW\n",
              "2       2.567870e+11  2020-02-23  U1DD\n",
              "3       2.567870e+11  2020-02-23  T0LZ\n",
              "4       2.567870e+11  2020-02-23  80G0\n",
              "...              ...         ...   ...\n",
              "111043  2.567047e+11  2020-02-29  P4IQ\n",
              "111044  2.567047e+11  2020-02-29  PNYC\n",
              "111045  2.567047e+11  2020-02-29  YDAG\n",
              "111046  2.567047e+11  2020-02-29  ZDTG\n",
              "111047  2.567047e+11  2020-02-29  7IPS\n",
              "\n",
              "[111048 rows x 3 columns]"
            ]
          },
          "metadata": {
            "tags": []
          },
          "execution_count": 171
        }
      ]
    },
    {
      "cell_type": "code",
      "metadata": {
        "id": "i-8HnQBMg5-u",
        "colab_type": "code",
        "colab": {}
      },
      "source": [
        "submission_clean = handle_bad_cols(train,submission_clean)"
      ],
      "execution_count": 0,
      "outputs": []
    },
    {
      "cell_type": "code",
      "metadata": {
        "id": "MpbvdVf0gCuv",
        "colab_type": "code",
        "colab": {}
      },
      "source": [
        "# submission_clean['Prediction'] = 0  \n",
        "# submission_clean.pid = enc.transform(submission_clean.pid) \n",
        "# submission_clean.rename(columns={\"PID\":\"pid\"},inplace=True)"
      ],
      "execution_count": 0,
      "outputs": []
    },
    {
      "cell_type": "code",
      "metadata": {
        "id": "g3NzInCaYf4H",
        "colab_type": "code",
        "colab": {}
      },
      "source": [
        "submission_clean.date = pd.to_datetime(submission_clean.date) \n",
        "submission_clean = submission_clean.assign(year = submission_clean.date.dt.year, month = submission_clean.date.dt.month ,day = submission_clean.date.dt.day)\n",
        "submission_clean.drop(['date'] , axis = 1 , inplace = True) \n",
        "# submission_clean['Prediction'] = 0  \n",
        "# submission_clean.PID = enc.transform(submission_clean.PID) \n",
        "# submission_clean.rename(columns={\"PID\":\"pid\"},inplace=True)\n",
        "# submission_clean.merge(categories , on = 'PID') "
      ],
      "execution_count": 0,
      "outputs": []
    },
    {
      "cell_type": "code",
      "metadata": {
        "id": "zuq66_U9ttLp",
        "colab_type": "code",
        "outputId": "f658c439-06fa-46ce-a431-5f1f67e4d62f",
        "colab": {
          "base_uri": "https://localhost:8080/",
          "height": 419
        }
      },
      "source": [
        "train"
      ],
      "execution_count": 0,
      "outputs": [
        {
          "output_type": "execute_result",
          "data": {
            "text/html": [
              "<div>\n",
              "<style scoped>\n",
              "    .dataframe tbody tr th:only-of-type {\n",
              "        vertical-align: middle;\n",
              "    }\n",
              "\n",
              "    .dataframe tbody tr th {\n",
              "        vertical-align: top;\n",
              "    }\n",
              "\n",
              "    .dataframe thead th {\n",
              "        text-align: right;\n",
              "    }\n",
              "</style>\n",
              "<table border=\"1\" class=\"dataframe\">\n",
              "  <thead>\n",
              "    <tr style=\"text-align: right;\">\n",
              "      <th></th>\n",
              "      <th>date</th>\n",
              "      <th>acc</th>\n",
              "      <th>pid</th>\n",
              "      <th>target</th>\n",
              "    </tr>\n",
              "  </thead>\n",
              "  <tbody>\n",
              "    <tr>\n",
              "      <th>929</th>\n",
              "      <td>2019-11-01</td>\n",
              "      <td>256702177173</td>\n",
              "      <td>U1DD</td>\n",
              "      <td>1.0</td>\n",
              "    </tr>\n",
              "    <tr>\n",
              "      <th>17858</th>\n",
              "      <td>2019-11-01</td>\n",
              "      <td>256702177173</td>\n",
              "      <td>80G0</td>\n",
              "      <td>1.0</td>\n",
              "    </tr>\n",
              "    <tr>\n",
              "      <th>30451</th>\n",
              "      <td>2019-11-01</td>\n",
              "      <td>256774747834</td>\n",
              "      <td>U1DD</td>\n",
              "      <td>1.0</td>\n",
              "    </tr>\n",
              "    <tr>\n",
              "      <th>17853</th>\n",
              "      <td>2019-11-01</td>\n",
              "      <td>256774747834</td>\n",
              "      <td>80G0</td>\n",
              "      <td>1.0</td>\n",
              "    </tr>\n",
              "    <tr>\n",
              "      <th>4005</th>\n",
              "      <td>2019-11-01</td>\n",
              "      <td>256703053300</td>\n",
              "      <td>DJGS</td>\n",
              "      <td>1.0</td>\n",
              "    </tr>\n",
              "    <tr>\n",
              "      <th>...</th>\n",
              "      <td>...</td>\n",
              "      <td>...</td>\n",
              "      <td>...</td>\n",
              "      <td>...</td>\n",
              "    </tr>\n",
              "    <tr>\n",
              "      <th>66509</th>\n",
              "      <td>2020-02-22</td>\n",
              "      <td>256706118107</td>\n",
              "      <td>WLIW</td>\n",
              "      <td>1.0</td>\n",
              "    </tr>\n",
              "    <tr>\n",
              "      <th>66510</th>\n",
              "      <td>2020-02-22</td>\n",
              "      <td>256759760017</td>\n",
              "      <td>WLIW</td>\n",
              "      <td>1.0</td>\n",
              "    </tr>\n",
              "    <tr>\n",
              "      <th>66511</th>\n",
              "      <td>2020-02-22</td>\n",
              "      <td>256797135398</td>\n",
              "      <td>DJGS</td>\n",
              "      <td>1.0</td>\n",
              "    </tr>\n",
              "    <tr>\n",
              "      <th>66512</th>\n",
              "      <td>2020-02-22</td>\n",
              "      <td>256000000000</td>\n",
              "      <td>U1DD</td>\n",
              "      <td>1.0</td>\n",
              "    </tr>\n",
              "    <tr>\n",
              "      <th>66513</th>\n",
              "      <td>2020-02-22</td>\n",
              "      <td>256777575334</td>\n",
              "      <td>T0LZ</td>\n",
              "      <td>1.0</td>\n",
              "    </tr>\n",
              "  </tbody>\n",
              "</table>\n",
              "<p>66514 rows × 4 columns</p>\n",
              "</div>"
            ],
            "text/plain": [
              "            date           acc   pid  target\n",
              "929   2019-11-01  256702177173  U1DD     1.0\n",
              "17858 2019-11-01  256702177173  80G0     1.0\n",
              "30451 2019-11-01  256774747834  U1DD     1.0\n",
              "17853 2019-11-01  256774747834  80G0     1.0\n",
              "4005  2019-11-01  256703053300  DJGS     1.0\n",
              "...          ...           ...   ...     ...\n",
              "66509 2020-02-22  256706118107  WLIW     1.0\n",
              "66510 2020-02-22  256759760017  WLIW     1.0\n",
              "66511 2020-02-22  256797135398  DJGS     1.0\n",
              "66512 2020-02-22  256000000000  U1DD     1.0\n",
              "66513 2020-02-22  256777575334  T0LZ     1.0\n",
              "\n",
              "[66514 rows x 4 columns]"
            ]
          },
          "metadata": {
            "tags": []
          },
          "execution_count": 169
        }
      ]
    },
    {
      "cell_type": "code",
      "metadata": {
        "id": "PaLKjYm9hyze",
        "colab_type": "code",
        "outputId": "bb119b69-1dc4-4c57-834b-0388acbd7eb1",
        "colab": {
          "base_uri": "https://localhost:8080/",
          "height": 419
        }
      },
      "source": [
        "submission_clean"
      ],
      "execution_count": 0,
      "outputs": [
        {
          "output_type": "execute_result",
          "data": {
            "text/html": [
              "<div>\n",
              "<style scoped>\n",
              "    .dataframe tbody tr th:only-of-type {\n",
              "        vertical-align: middle;\n",
              "    }\n",
              "\n",
              "    .dataframe tbody tr th {\n",
              "        vertical-align: top;\n",
              "    }\n",
              "\n",
              "    .dataframe thead th {\n",
              "        text-align: right;\n",
              "    }\n",
              "</style>\n",
              "<table border=\"1\" class=\"dataframe\">\n",
              "  <thead>\n",
              "    <tr style=\"text-align: right;\">\n",
              "      <th></th>\n",
              "      <th>acc</th>\n",
              "      <th>pid</th>\n",
              "      <th>year</th>\n",
              "      <th>month</th>\n",
              "      <th>day</th>\n",
              "    </tr>\n",
              "  </thead>\n",
              "  <tbody>\n",
              "    <tr>\n",
              "      <th>0</th>\n",
              "      <td>2.567870e+11</td>\n",
              "      <td>5YR6</td>\n",
              "      <td>2020</td>\n",
              "      <td>2</td>\n",
              "      <td>23</td>\n",
              "    </tr>\n",
              "    <tr>\n",
              "      <th>1</th>\n",
              "      <td>2.567870e+11</td>\n",
              "      <td>WLIW</td>\n",
              "      <td>2020</td>\n",
              "      <td>2</td>\n",
              "      <td>23</td>\n",
              "    </tr>\n",
              "    <tr>\n",
              "      <th>2</th>\n",
              "      <td>2.567870e+11</td>\n",
              "      <td>U1DD</td>\n",
              "      <td>2020</td>\n",
              "      <td>2</td>\n",
              "      <td>23</td>\n",
              "    </tr>\n",
              "    <tr>\n",
              "      <th>3</th>\n",
              "      <td>2.567870e+11</td>\n",
              "      <td>T0LZ</td>\n",
              "      <td>2020</td>\n",
              "      <td>2</td>\n",
              "      <td>23</td>\n",
              "    </tr>\n",
              "    <tr>\n",
              "      <th>4</th>\n",
              "      <td>2.567870e+11</td>\n",
              "      <td>80G0</td>\n",
              "      <td>2020</td>\n",
              "      <td>2</td>\n",
              "      <td>23</td>\n",
              "    </tr>\n",
              "    <tr>\n",
              "      <th>...</th>\n",
              "      <td>...</td>\n",
              "      <td>...</td>\n",
              "      <td>...</td>\n",
              "      <td>...</td>\n",
              "      <td>...</td>\n",
              "    </tr>\n",
              "    <tr>\n",
              "      <th>111043</th>\n",
              "      <td>2.567047e+11</td>\n",
              "      <td>P4IQ</td>\n",
              "      <td>2020</td>\n",
              "      <td>2</td>\n",
              "      <td>29</td>\n",
              "    </tr>\n",
              "    <tr>\n",
              "      <th>111044</th>\n",
              "      <td>2.567047e+11</td>\n",
              "      <td>PNYC</td>\n",
              "      <td>2020</td>\n",
              "      <td>2</td>\n",
              "      <td>29</td>\n",
              "    </tr>\n",
              "    <tr>\n",
              "      <th>111045</th>\n",
              "      <td>2.567047e+11</td>\n",
              "      <td>YDAG</td>\n",
              "      <td>2020</td>\n",
              "      <td>2</td>\n",
              "      <td>29</td>\n",
              "    </tr>\n",
              "    <tr>\n",
              "      <th>111046</th>\n",
              "      <td>2.567047e+11</td>\n",
              "      <td>ZDTG</td>\n",
              "      <td>2020</td>\n",
              "      <td>2</td>\n",
              "      <td>29</td>\n",
              "    </tr>\n",
              "    <tr>\n",
              "      <th>111047</th>\n",
              "      <td>2.567047e+11</td>\n",
              "      <td>7IPS</td>\n",
              "      <td>2020</td>\n",
              "      <td>2</td>\n",
              "      <td>29</td>\n",
              "    </tr>\n",
              "  </tbody>\n",
              "</table>\n",
              "<p>111048 rows × 5 columns</p>\n",
              "</div>"
            ],
            "text/plain": [
              "                 acc   pid  year  month  day\n",
              "0       2.567870e+11  5YR6  2020      2   23\n",
              "1       2.567870e+11  WLIW  2020      2   23\n",
              "2       2.567870e+11  U1DD  2020      2   23\n",
              "3       2.567870e+11  T0LZ  2020      2   23\n",
              "4       2.567870e+11  80G0  2020      2   23\n",
              "...              ...   ...   ...    ...  ...\n",
              "111043  2.567047e+11  P4IQ  2020      2   29\n",
              "111044  2.567047e+11  PNYC  2020      2   29\n",
              "111045  2.567047e+11  YDAG  2020      2   29\n",
              "111046  2.567047e+11  ZDTG  2020      2   29\n",
              "111047  2.567047e+11  7IPS  2020      2   29\n",
              "\n",
              "[111048 rows x 5 columns]"
            ]
          },
          "metadata": {
            "tags": []
          },
          "execution_count": 156
        }
      ]
    },
    {
      "cell_type": "code",
      "metadata": {
        "id": "gwdibvM4cuqa",
        "colab_type": "code",
        "outputId": "a2d86e53-0cb3-45de-e597-d79cbe9feb1f",
        "colab": {
          "base_uri": "https://localhost:8080/",
          "height": 119
        }
      },
      "source": [
        "tr  = DecisionTreeClassifier()\n",
        "tr.fit(bigdfobj.drop([\"target\",\"date\"],axis=1),bigdfobj[\"target\"])"
      ],
      "execution_count": 0,
      "outputs": [
        {
          "output_type": "execute_result",
          "data": {
            "text/plain": [
              "DecisionTreeClassifier(ccp_alpha=0.0, class_weight=None, criterion='gini',\n",
              "                       max_depth=None, max_features=None, max_leaf_nodes=None,\n",
              "                       min_impurity_decrease=0.0, min_impurity_split=None,\n",
              "                       min_samples_leaf=1, min_samples_split=2,\n",
              "                       min_weight_fraction_leaf=0.0, presort='deprecated',\n",
              "                       random_state=None, splitter='best')"
            ]
          },
          "metadata": {
            "tags": []
          },
          "execution_count": 90
        }
      ]
    },
    {
      "cell_type": "code",
      "metadata": {
        "id": "th34yqiuiSlc",
        "colab_type": "code",
        "colab": {}
      },
      "source": [
        "pred = tr.predict(submission_clean)"
      ],
      "execution_count": 0,
      "outputs": []
    },
    {
      "cell_type": "code",
      "metadata": {
        "id": "UhsFBxeowYDJ",
        "colab_type": "code",
        "colab": {}
      },
      "source": [
        ""
      ],
      "execution_count": 0,
      "outputs": []
    },
    {
      "cell_type": "code",
      "metadata": {
        "id": "tgliN6V4iafA",
        "colab_type": "code",
        "colab": {}
      },
      "source": [
        "submission[\"Prediction\"]= pred"
      ],
      "execution_count": 0,
      "outputs": []
    },
    {
      "cell_type": "code",
      "metadata": {
        "id": "xUfsEJlaimJi",
        "colab_type": "code",
        "colab": {}
      },
      "source": [
        "submission.to_csv(\"sub1.csv\",index=False)"
      ],
      "execution_count": 0,
      "outputs": []
    },
    {
      "cell_type": "code",
      "metadata": {
        "id": "F_Qwxefli70m",
        "colab_type": "code",
        "outputId": "bbf44006-2efe-41bb-a547-1002447f211b",
        "colab": {
          "base_uri": "https://localhost:8080/",
          "height": 34
        }
      },
      "source": [
        "submission.Prediction.sum()"
      ],
      "execution_count": 0,
      "outputs": [
        {
          "output_type": "execute_result",
          "data": {
            "text/plain": [
              "1055.0"
            ]
          },
          "metadata": {
            "tags": []
          },
          "execution_count": 96
        }
      ]
    },
    {
      "cell_type": "markdown",
      "metadata": {
        "id": "AwLWZuNJdUIE",
        "colab_type": "text"
      },
      "source": [
        "# Feature engineering"
      ]
    },
    {
      "cell_type": "code",
      "metadata": {
        "id": "GZZ1QcL0dXMg",
        "colab_type": "code",
        "colab": {}
      },
      "source": [
        "\n"
      ],
      "execution_count": 0,
      "outputs": []
    },
    {
      "cell_type": "code",
      "metadata": {
        "id": "zkO7GV_RdXwj",
        "colab_type": "code",
        "colab": {}
      },
      "source": [
        ""
      ],
      "execution_count": 0,
      "outputs": []
    },
    {
      "cell_type": "code",
      "metadata": {
        "id": "jeSVgnufqxWk",
        "colab_type": "code",
        "colab": {}
      },
      "source": [
        "data = pd.merge(data,categories)"
      ],
      "execution_count": 0,
      "outputs": []
    },
    {
      "cell_type": "code",
      "metadata": {
        "id": "btko8Eb4q3W8",
        "colab_type": "code",
        "outputId": "328966e3-deab-4918-9a98-b8031eaa8f10",
        "colab": {
          "base_uri": "https://localhost:8080/",
          "height": 419
        }
      },
      "source": [
        "data"
      ],
      "execution_count": 0,
      "outputs": [
        {
          "output_type": "execute_result",
          "data": {
            "text/html": [
              "<div>\n",
              "<style scoped>\n",
              "    .dataframe tbody tr th:only-of-type {\n",
              "        vertical-align: middle;\n",
              "    }\n",
              "\n",
              "    .dataframe tbody tr th {\n",
              "        vertical-align: top;\n",
              "    }\n",
              "\n",
              "    .dataframe thead th {\n",
              "        text-align: right;\n",
              "    }\n",
              "</style>\n",
              "<table border=\"1\" class=\"dataframe\">\n",
              "  <thead>\n",
              "    <tr style=\"text-align: right;\">\n",
              "      <th></th>\n",
              "      <th>acc</th>\n",
              "      <th>date</th>\n",
              "      <th>pid</th>\n",
              "      <th>Category</th>\n",
              "    </tr>\n",
              "  </thead>\n",
              "  <tbody>\n",
              "    <tr>\n",
              "      <th>0</th>\n",
              "      <td>256702177173</td>\n",
              "      <td>2019-11-01</td>\n",
              "      <td>U1DD</td>\n",
              "      <td>MOBILE_MONEY</td>\n",
              "    </tr>\n",
              "    <tr>\n",
              "      <th>1</th>\n",
              "      <td>256705848786</td>\n",
              "      <td>2019-11-01</td>\n",
              "      <td>U1DD</td>\n",
              "      <td>MOBILE_MONEY</td>\n",
              "    </tr>\n",
              "    <tr>\n",
              "      <th>2</th>\n",
              "      <td>256794989487</td>\n",
              "      <td>2019-11-01</td>\n",
              "      <td>U1DD</td>\n",
              "      <td>MOBILE_MONEY</td>\n",
              "    </tr>\n",
              "    <tr>\n",
              "      <th>3</th>\n",
              "      <td>256705040016</td>\n",
              "      <td>2019-11-01</td>\n",
              "      <td>U1DD</td>\n",
              "      <td>MOBILE_MONEY</td>\n",
              "    </tr>\n",
              "    <tr>\n",
              "      <th>4</th>\n",
              "      <td>256781899610</td>\n",
              "      <td>2019-11-01</td>\n",
              "      <td>U1DD</td>\n",
              "      <td>MOBILE_MONEY</td>\n",
              "    </tr>\n",
              "    <tr>\n",
              "      <th>...</th>\n",
              "      <td>...</td>\n",
              "      <td>...</td>\n",
              "      <td>...</td>\n",
              "      <td>...</td>\n",
              "    </tr>\n",
              "    <tr>\n",
              "      <th>10054339</th>\n",
              "      <td>256777222008</td>\n",
              "      <td>2020-02-22</td>\n",
              "      <td>WZF8</td>\n",
              "      <td>AIRTIME_DATA</td>\n",
              "    </tr>\n",
              "    <tr>\n",
              "      <th>10054340</th>\n",
              "      <td>256700425809</td>\n",
              "      <td>2020-02-22</td>\n",
              "      <td>WZF8</td>\n",
              "      <td>AIRTIME_DATA</td>\n",
              "    </tr>\n",
              "    <tr>\n",
              "      <th>10054341</th>\n",
              "      <td>256772359045</td>\n",
              "      <td>2020-02-22</td>\n",
              "      <td>WZF8</td>\n",
              "      <td>AIRTIME_DATA</td>\n",
              "    </tr>\n",
              "    <tr>\n",
              "      <th>10054342</th>\n",
              "      <td>256772806102</td>\n",
              "      <td>2020-02-22</td>\n",
              "      <td>WZF8</td>\n",
              "      <td>AIRTIME_DATA</td>\n",
              "    </tr>\n",
              "    <tr>\n",
              "      <th>10054343</th>\n",
              "      <td>256705146872</td>\n",
              "      <td>2020-02-22</td>\n",
              "      <td>WZF8</td>\n",
              "      <td>AIRTIME_DATA</td>\n",
              "    </tr>\n",
              "  </tbody>\n",
              "</table>\n",
              "<p>10054344 rows × 4 columns</p>\n",
              "</div>"
            ],
            "text/plain": [
              "                   acc       date   pid      Category\n",
              "0         256702177173 2019-11-01  U1DD  MOBILE_MONEY\n",
              "1         256705848786 2019-11-01  U1DD  MOBILE_MONEY\n",
              "2         256794989487 2019-11-01  U1DD  MOBILE_MONEY\n",
              "3         256705040016 2019-11-01  U1DD  MOBILE_MONEY\n",
              "4         256781899610 2019-11-01  U1DD  MOBILE_MONEY\n",
              "...                ...        ...   ...           ...\n",
              "10054339  256777222008 2020-02-22  WZF8  AIRTIME_DATA\n",
              "10054340  256700425809 2020-02-22  WZF8  AIRTIME_DATA\n",
              "10054341  256772359045 2020-02-22  WZF8  AIRTIME_DATA\n",
              "10054342  256772806102 2020-02-22  WZF8  AIRTIME_DATA\n",
              "10054343  256705146872 2020-02-22  WZF8  AIRTIME_DATA\n",
              "\n",
              "[10054344 rows x 4 columns]"
            ]
          },
          "metadata": {
            "tags": []
          },
          "execution_count": 151
        }
      ]
    },
    {
      "cell_type": "code",
      "metadata": {
        "id": "WKdap0N2q7eN",
        "colab_type": "code",
        "colab": {}
      },
      "source": [
        "submission_clean = pd.merge(submission_clean,categories)"
      ],
      "execution_count": 0,
      "outputs": []
    },
    {
      "cell_type": "code",
      "metadata": {
        "id": "xWKsu6u2rU2f",
        "colab_type": "code",
        "colab": {}
      },
      "source": [
        "data, submission_clean , _ = AllEncoder(data,submission_clean,data,\"h\",cols_index=[\"Category\"])\n"
      ],
      "execution_count": 0,
      "outputs": []
    },
    {
      "cell_type": "code",
      "metadata": {
        "id": "pPtBdCBUrlsO",
        "colab_type": "code",
        "colab": {}
      },
      "source": [
        "# data, submission_clean , _ = AllEncoder(data,submission_clean,data,\"l\",cols_index=[\"pid\"])\n",
        "data.pid = enc.transform(data.pid)\n",
        "submission_clean.pid = enc.transform(submission_clean.pid)"
      ],
      "execution_count": 0,
      "outputs": []
    },
    {
      "cell_type": "code",
      "metadata": {
        "id": "E7zGqirRrvuC",
        "colab_type": "code",
        "outputId": "e4eb423d-259b-48ed-8650-335ec7faebcf",
        "colab": {
          "base_uri": "https://localhost:8080/",
          "height": 34
        }
      },
      "source": [
        "[d  for d in submission_clean.pid.unique() if d not  in  data.pid.unique() ]"
      ],
      "execution_count": 0,
      "outputs": [
        {
          "output_type": "execute_result",
          "data": {
            "text/plain": [
              "[]"
            ]
          },
          "metadata": {
            "tags": []
          },
          "execution_count": 165
        }
      ]
    },
    {
      "cell_type": "code",
      "metadata": {
        "id": "QtdcpYBIsJdO",
        "colab_type": "code",
        "outputId": "dea60296-3880-446a-caed-2635536bb54e",
        "colab": {
          "base_uri": "https://localhost:8080/",
          "height": 419
        }
      },
      "source": [
        "data"
      ],
      "execution_count": 0,
      "outputs": [
        {
          "output_type": "execute_result",
          "data": {
            "text/html": [
              "<div>\n",
              "<style scoped>\n",
              "    .dataframe tbody tr th:only-of-type {\n",
              "        vertical-align: middle;\n",
              "    }\n",
              "\n",
              "    .dataframe tbody tr th {\n",
              "        vertical-align: top;\n",
              "    }\n",
              "\n",
              "    .dataframe thead th {\n",
              "        text-align: right;\n",
              "    }\n",
              "</style>\n",
              "<table border=\"1\" class=\"dataframe\">\n",
              "  <thead>\n",
              "    <tr style=\"text-align: right;\">\n",
              "      <th></th>\n",
              "      <th>acc</th>\n",
              "      <th>date</th>\n",
              "      <th>pid</th>\n",
              "      <th>0</th>\n",
              "      <th>1</th>\n",
              "      <th>2</th>\n",
              "      <th>3</th>\n",
              "      <th>4</th>\n",
              "      <th>5</th>\n",
              "    </tr>\n",
              "  </thead>\n",
              "  <tbody>\n",
              "    <tr>\n",
              "      <th>0</th>\n",
              "      <td>256702177173</td>\n",
              "      <td>2019-11-01</td>\n",
              "      <td>26</td>\n",
              "      <td>0.0</td>\n",
              "      <td>0.0</td>\n",
              "      <td>0.0</td>\n",
              "      <td>1.0</td>\n",
              "      <td>0.0</td>\n",
              "      <td>0.0</td>\n",
              "    </tr>\n",
              "    <tr>\n",
              "      <th>1</th>\n",
              "      <td>256705848786</td>\n",
              "      <td>2019-11-01</td>\n",
              "      <td>26</td>\n",
              "      <td>0.0</td>\n",
              "      <td>0.0</td>\n",
              "      <td>0.0</td>\n",
              "      <td>1.0</td>\n",
              "      <td>0.0</td>\n",
              "      <td>0.0</td>\n",
              "    </tr>\n",
              "    <tr>\n",
              "      <th>2</th>\n",
              "      <td>256794989487</td>\n",
              "      <td>2019-11-01</td>\n",
              "      <td>26</td>\n",
              "      <td>0.0</td>\n",
              "      <td>0.0</td>\n",
              "      <td>0.0</td>\n",
              "      <td>1.0</td>\n",
              "      <td>0.0</td>\n",
              "      <td>0.0</td>\n",
              "    </tr>\n",
              "    <tr>\n",
              "      <th>3</th>\n",
              "      <td>256705040016</td>\n",
              "      <td>2019-11-01</td>\n",
              "      <td>26</td>\n",
              "      <td>0.0</td>\n",
              "      <td>0.0</td>\n",
              "      <td>0.0</td>\n",
              "      <td>1.0</td>\n",
              "      <td>0.0</td>\n",
              "      <td>0.0</td>\n",
              "    </tr>\n",
              "    <tr>\n",
              "      <th>4</th>\n",
              "      <td>256781899610</td>\n",
              "      <td>2019-11-01</td>\n",
              "      <td>26</td>\n",
              "      <td>0.0</td>\n",
              "      <td>0.0</td>\n",
              "      <td>0.0</td>\n",
              "      <td>1.0</td>\n",
              "      <td>0.0</td>\n",
              "      <td>0.0</td>\n",
              "    </tr>\n",
              "    <tr>\n",
              "      <th>...</th>\n",
              "      <td>...</td>\n",
              "      <td>...</td>\n",
              "      <td>...</td>\n",
              "      <td>...</td>\n",
              "      <td>...</td>\n",
              "      <td>...</td>\n",
              "      <td>...</td>\n",
              "      <td>...</td>\n",
              "      <td>...</td>\n",
              "    </tr>\n",
              "    <tr>\n",
              "      <th>10054339</th>\n",
              "      <td>256777222008</td>\n",
              "      <td>2020-02-22</td>\n",
              "      <td>29</td>\n",
              "      <td>0.0</td>\n",
              "      <td>1.0</td>\n",
              "      <td>0.0</td>\n",
              "      <td>0.0</td>\n",
              "      <td>0.0</td>\n",
              "      <td>0.0</td>\n",
              "    </tr>\n",
              "    <tr>\n",
              "      <th>10054340</th>\n",
              "      <td>256700425809</td>\n",
              "      <td>2020-02-22</td>\n",
              "      <td>29</td>\n",
              "      <td>0.0</td>\n",
              "      <td>1.0</td>\n",
              "      <td>0.0</td>\n",
              "      <td>0.0</td>\n",
              "      <td>0.0</td>\n",
              "      <td>0.0</td>\n",
              "    </tr>\n",
              "    <tr>\n",
              "      <th>10054341</th>\n",
              "      <td>256772359045</td>\n",
              "      <td>2020-02-22</td>\n",
              "      <td>29</td>\n",
              "      <td>0.0</td>\n",
              "      <td>1.0</td>\n",
              "      <td>0.0</td>\n",
              "      <td>0.0</td>\n",
              "      <td>0.0</td>\n",
              "      <td>0.0</td>\n",
              "    </tr>\n",
              "    <tr>\n",
              "      <th>10054342</th>\n",
              "      <td>256772806102</td>\n",
              "      <td>2020-02-22</td>\n",
              "      <td>29</td>\n",
              "      <td>0.0</td>\n",
              "      <td>1.0</td>\n",
              "      <td>0.0</td>\n",
              "      <td>0.0</td>\n",
              "      <td>0.0</td>\n",
              "      <td>0.0</td>\n",
              "    </tr>\n",
              "    <tr>\n",
              "      <th>10054343</th>\n",
              "      <td>256705146872</td>\n",
              "      <td>2020-02-22</td>\n",
              "      <td>29</td>\n",
              "      <td>0.0</td>\n",
              "      <td>1.0</td>\n",
              "      <td>0.0</td>\n",
              "      <td>0.0</td>\n",
              "      <td>0.0</td>\n",
              "      <td>0.0</td>\n",
              "    </tr>\n",
              "  </tbody>\n",
              "</table>\n",
              "<p>10054344 rows × 9 columns</p>\n",
              "</div>"
            ],
            "text/plain": [
              "                   acc       date  pid    0    1    2    3    4    5\n",
              "0         256702177173 2019-11-01   26  0.0  0.0  0.0  1.0  0.0  0.0\n",
              "1         256705848786 2019-11-01   26  0.0  0.0  0.0  1.0  0.0  0.0\n",
              "2         256794989487 2019-11-01   26  0.0  0.0  0.0  1.0  0.0  0.0\n",
              "3         256705040016 2019-11-01   26  0.0  0.0  0.0  1.0  0.0  0.0\n",
              "4         256781899610 2019-11-01   26  0.0  0.0  0.0  1.0  0.0  0.0\n",
              "...                ...        ...  ...  ...  ...  ...  ...  ...  ...\n",
              "10054339  256777222008 2020-02-22   29  0.0  1.0  0.0  0.0  0.0  0.0\n",
              "10054340  256700425809 2020-02-22   29  0.0  1.0  0.0  0.0  0.0  0.0\n",
              "10054341  256772359045 2020-02-22   29  0.0  1.0  0.0  0.0  0.0  0.0\n",
              "10054342  256772806102 2020-02-22   29  0.0  1.0  0.0  0.0  0.0  0.0\n",
              "10054343  256705146872 2020-02-22   29  0.0  1.0  0.0  0.0  0.0  0.0\n",
              "\n",
              "[10054344 rows x 9 columns]"
            ]
          },
          "metadata": {
            "tags": []
          },
          "execution_count": 166
        }
      ]
    },
    {
      "cell_type": "code",
      "metadata": {
        "id": "RU0oVIOAvoyW",
        "colab_type": "code",
        "outputId": "91774ed1-ed91-4f86-8ace-454b7ec003ab",
        "colab": {
          "base_uri": "https://localhost:8080/",
          "height": 419
        }
      },
      "source": [
        "data"
      ],
      "execution_count": 0,
      "outputs": [
        {
          "output_type": "execute_result",
          "data": {
            "text/html": [
              "<div>\n",
              "<style scoped>\n",
              "    .dataframe tbody tr th:only-of-type {\n",
              "        vertical-align: middle;\n",
              "    }\n",
              "\n",
              "    .dataframe tbody tr th {\n",
              "        vertical-align: top;\n",
              "    }\n",
              "\n",
              "    .dataframe thead th {\n",
              "        text-align: right;\n",
              "    }\n",
              "</style>\n",
              "<table border=\"1\" class=\"dataframe\">\n",
              "  <thead>\n",
              "    <tr style=\"text-align: right;\">\n",
              "      <th></th>\n",
              "      <th>acc</th>\n",
              "      <th>date</th>\n",
              "      <th>pid</th>\n",
              "      <th>target</th>\n",
              "      <th>0</th>\n",
              "      <th>1</th>\n",
              "      <th>2</th>\n",
              "      <th>3</th>\n",
              "      <th>4</th>\n",
              "      <th>5</th>\n",
              "    </tr>\n",
              "  </thead>\n",
              "  <tbody>\n",
              "    <tr>\n",
              "      <th>0</th>\n",
              "      <td>256702177173</td>\n",
              "      <td>2019-11-01</td>\n",
              "      <td>26</td>\n",
              "      <td>1.0</td>\n",
              "      <td>0.0</td>\n",
              "      <td>0.0</td>\n",
              "      <td>0.0</td>\n",
              "      <td>1.0</td>\n",
              "      <td>0.0</td>\n",
              "      <td>0.0</td>\n",
              "    </tr>\n",
              "    <tr>\n",
              "      <th>1</th>\n",
              "      <td>256705848786</td>\n",
              "      <td>2019-11-01</td>\n",
              "      <td>26</td>\n",
              "      <td>0.0</td>\n",
              "      <td>0.0</td>\n",
              "      <td>0.0</td>\n",
              "      <td>0.0</td>\n",
              "      <td>1.0</td>\n",
              "      <td>0.0</td>\n",
              "      <td>0.0</td>\n",
              "    </tr>\n",
              "    <tr>\n",
              "      <th>2</th>\n",
              "      <td>256794989487</td>\n",
              "      <td>2019-11-01</td>\n",
              "      <td>26</td>\n",
              "      <td>0.0</td>\n",
              "      <td>0.0</td>\n",
              "      <td>0.0</td>\n",
              "      <td>0.0</td>\n",
              "      <td>1.0</td>\n",
              "      <td>0.0</td>\n",
              "      <td>0.0</td>\n",
              "    </tr>\n",
              "    <tr>\n",
              "      <th>3</th>\n",
              "      <td>256705040016</td>\n",
              "      <td>2019-11-01</td>\n",
              "      <td>26</td>\n",
              "      <td>0.0</td>\n",
              "      <td>0.0</td>\n",
              "      <td>0.0</td>\n",
              "      <td>0.0</td>\n",
              "      <td>1.0</td>\n",
              "      <td>0.0</td>\n",
              "      <td>0.0</td>\n",
              "    </tr>\n",
              "    <tr>\n",
              "      <th>4</th>\n",
              "      <td>256781899610</td>\n",
              "      <td>2019-11-01</td>\n",
              "      <td>26</td>\n",
              "      <td>0.0</td>\n",
              "      <td>0.0</td>\n",
              "      <td>0.0</td>\n",
              "      <td>0.0</td>\n",
              "      <td>1.0</td>\n",
              "      <td>0.0</td>\n",
              "      <td>0.0</td>\n",
              "    </tr>\n",
              "    <tr>\n",
              "      <th>...</th>\n",
              "      <td>...</td>\n",
              "      <td>...</td>\n",
              "      <td>...</td>\n",
              "      <td>...</td>\n",
              "      <td>...</td>\n",
              "      <td>...</td>\n",
              "      <td>...</td>\n",
              "      <td>...</td>\n",
              "      <td>...</td>\n",
              "      <td>...</td>\n",
              "    </tr>\n",
              "    <tr>\n",
              "      <th>10085799</th>\n",
              "      <td>256777222008</td>\n",
              "      <td>2020-02-22</td>\n",
              "      <td>29</td>\n",
              "      <td>0.0</td>\n",
              "      <td>0.0</td>\n",
              "      <td>1.0</td>\n",
              "      <td>0.0</td>\n",
              "      <td>0.0</td>\n",
              "      <td>0.0</td>\n",
              "      <td>0.0</td>\n",
              "    </tr>\n",
              "    <tr>\n",
              "      <th>10085800</th>\n",
              "      <td>256700425809</td>\n",
              "      <td>2020-02-22</td>\n",
              "      <td>29</td>\n",
              "      <td>0.0</td>\n",
              "      <td>0.0</td>\n",
              "      <td>1.0</td>\n",
              "      <td>0.0</td>\n",
              "      <td>0.0</td>\n",
              "      <td>0.0</td>\n",
              "      <td>0.0</td>\n",
              "    </tr>\n",
              "    <tr>\n",
              "      <th>10085801</th>\n",
              "      <td>256772359045</td>\n",
              "      <td>2020-02-22</td>\n",
              "      <td>29</td>\n",
              "      <td>0.0</td>\n",
              "      <td>0.0</td>\n",
              "      <td>1.0</td>\n",
              "      <td>0.0</td>\n",
              "      <td>0.0</td>\n",
              "      <td>0.0</td>\n",
              "      <td>0.0</td>\n",
              "    </tr>\n",
              "    <tr>\n",
              "      <th>10085802</th>\n",
              "      <td>256772806102</td>\n",
              "      <td>2020-02-22</td>\n",
              "      <td>29</td>\n",
              "      <td>0.0</td>\n",
              "      <td>0.0</td>\n",
              "      <td>1.0</td>\n",
              "      <td>0.0</td>\n",
              "      <td>0.0</td>\n",
              "      <td>0.0</td>\n",
              "      <td>0.0</td>\n",
              "    </tr>\n",
              "    <tr>\n",
              "      <th>10085803</th>\n",
              "      <td>256705146872</td>\n",
              "      <td>2020-02-22</td>\n",
              "      <td>29</td>\n",
              "      <td>0.0</td>\n",
              "      <td>0.0</td>\n",
              "      <td>1.0</td>\n",
              "      <td>0.0</td>\n",
              "      <td>0.0</td>\n",
              "      <td>0.0</td>\n",
              "      <td>0.0</td>\n",
              "    </tr>\n",
              "  </tbody>\n",
              "</table>\n",
              "<p>10085804 rows × 10 columns</p>\n",
              "</div>"
            ],
            "text/plain": [
              "                   acc       date  pid  target    0    1    2    3    4    5\n",
              "0         256702177173 2019-11-01   26     1.0  0.0  0.0  0.0  1.0  0.0  0.0\n",
              "1         256705848786 2019-11-01   26     0.0  0.0  0.0  0.0  1.0  0.0  0.0\n",
              "2         256794989487 2019-11-01   26     0.0  0.0  0.0  0.0  1.0  0.0  0.0\n",
              "3         256705040016 2019-11-01   26     0.0  0.0  0.0  0.0  1.0  0.0  0.0\n",
              "4         256781899610 2019-11-01   26     0.0  0.0  0.0  0.0  1.0  0.0  0.0\n",
              "...                ...        ...  ...     ...  ...  ...  ...  ...  ...  ...\n",
              "10085799  256777222008 2020-02-22   29     0.0  0.0  1.0  0.0  0.0  0.0  0.0\n",
              "10085800  256700425809 2020-02-22   29     0.0  0.0  1.0  0.0  0.0  0.0  0.0\n",
              "10085801  256772359045 2020-02-22   29     0.0  0.0  1.0  0.0  0.0  0.0  0.0\n",
              "10085802  256772806102 2020-02-22   29     0.0  0.0  1.0  0.0  0.0  0.0  0.0\n",
              "10085803  256705146872 2020-02-22   29     0.0  0.0  1.0  0.0  0.0  0.0  0.0\n",
              "\n",
              "[10085804 rows x 10 columns]"
            ]
          },
          "metadata": {
            "tags": []
          },
          "execution_count": 197
        }
      ]
    },
    {
      "cell_type": "code",
      "metadata": {
        "id": "TR06cpbEsgC9",
        "colab_type": "code",
        "colab": {}
      },
      "source": [
        "data.date = pd.to_datetime(data.date) \n",
        "data = data.assign(year = data.date.dt.year, month = data.date.dt.month ,day = data.date.dt.day) "
      ],
      "execution_count": 0,
      "outputs": []
    },
    {
      "cell_type": "code",
      "metadata": {
        "id": "x6SAIW8Jsl_Q",
        "colab_type": "code",
        "colab": {}
      },
      "source": [
        "data.drop([\"date\",],axis=1,inplace=True)"
      ],
      "execution_count": 0,
      "outputs": []
    },
    {
      "cell_type": "code",
      "metadata": {
        "id": "W-T8CcFC1Yt4",
        "colab_type": "code",
        "colab": {}
      },
      "source": [
        "data.drop(range(0,6),axis=1,inplace= True)"
      ],
      "execution_count": 0,
      "outputs": []
    },
    {
      "cell_type": "code",
      "metadata": {
        "id": "ywciY3B22AQM",
        "colab_type": "code",
        "outputId": "1c34c191-39bc-415a-cc46-14903e2569b6",
        "colab": {
          "base_uri": "https://localhost:8080/",
          "height": 419
        }
      },
      "source": [
        "data"
      ],
      "execution_count": 0,
      "outputs": [
        {
          "output_type": "execute_result",
          "data": {
            "text/html": [
              "<div>\n",
              "<style scoped>\n",
              "    .dataframe tbody tr th:only-of-type {\n",
              "        vertical-align: middle;\n",
              "    }\n",
              "\n",
              "    .dataframe tbody tr th {\n",
              "        vertical-align: top;\n",
              "    }\n",
              "\n",
              "    .dataframe thead th {\n",
              "        text-align: right;\n",
              "    }\n",
              "</style>\n",
              "<table border=\"1\" class=\"dataframe\">\n",
              "  <thead>\n",
              "    <tr style=\"text-align: right;\">\n",
              "      <th></th>\n",
              "      <th>acc</th>\n",
              "      <th>pid</th>\n",
              "      <th>target</th>\n",
              "      <th>year</th>\n",
              "      <th>month</th>\n",
              "      <th>day</th>\n",
              "    </tr>\n",
              "  </thead>\n",
              "  <tbody>\n",
              "    <tr>\n",
              "      <th>0</th>\n",
              "      <td>256702177173</td>\n",
              "      <td>26</td>\n",
              "      <td>1.0</td>\n",
              "      <td>2019</td>\n",
              "      <td>11</td>\n",
              "      <td>1</td>\n",
              "    </tr>\n",
              "    <tr>\n",
              "      <th>1</th>\n",
              "      <td>256705848786</td>\n",
              "      <td>26</td>\n",
              "      <td>0.0</td>\n",
              "      <td>2019</td>\n",
              "      <td>11</td>\n",
              "      <td>1</td>\n",
              "    </tr>\n",
              "    <tr>\n",
              "      <th>2</th>\n",
              "      <td>256794989487</td>\n",
              "      <td>26</td>\n",
              "      <td>0.0</td>\n",
              "      <td>2019</td>\n",
              "      <td>11</td>\n",
              "      <td>1</td>\n",
              "    </tr>\n",
              "    <tr>\n",
              "      <th>3</th>\n",
              "      <td>256705040016</td>\n",
              "      <td>26</td>\n",
              "      <td>0.0</td>\n",
              "      <td>2019</td>\n",
              "      <td>11</td>\n",
              "      <td>1</td>\n",
              "    </tr>\n",
              "    <tr>\n",
              "      <th>4</th>\n",
              "      <td>256781899610</td>\n",
              "      <td>26</td>\n",
              "      <td>0.0</td>\n",
              "      <td>2019</td>\n",
              "      <td>11</td>\n",
              "      <td>1</td>\n",
              "    </tr>\n",
              "    <tr>\n",
              "      <th>...</th>\n",
              "      <td>...</td>\n",
              "      <td>...</td>\n",
              "      <td>...</td>\n",
              "      <td>...</td>\n",
              "      <td>...</td>\n",
              "      <td>...</td>\n",
              "    </tr>\n",
              "    <tr>\n",
              "      <th>10085799</th>\n",
              "      <td>256777222008</td>\n",
              "      <td>29</td>\n",
              "      <td>0.0</td>\n",
              "      <td>2020</td>\n",
              "      <td>2</td>\n",
              "      <td>22</td>\n",
              "    </tr>\n",
              "    <tr>\n",
              "      <th>10085800</th>\n",
              "      <td>256700425809</td>\n",
              "      <td>29</td>\n",
              "      <td>0.0</td>\n",
              "      <td>2020</td>\n",
              "      <td>2</td>\n",
              "      <td>22</td>\n",
              "    </tr>\n",
              "    <tr>\n",
              "      <th>10085801</th>\n",
              "      <td>256772359045</td>\n",
              "      <td>29</td>\n",
              "      <td>0.0</td>\n",
              "      <td>2020</td>\n",
              "      <td>2</td>\n",
              "      <td>22</td>\n",
              "    </tr>\n",
              "    <tr>\n",
              "      <th>10085802</th>\n",
              "      <td>256772806102</td>\n",
              "      <td>29</td>\n",
              "      <td>0.0</td>\n",
              "      <td>2020</td>\n",
              "      <td>2</td>\n",
              "      <td>22</td>\n",
              "    </tr>\n",
              "    <tr>\n",
              "      <th>10085803</th>\n",
              "      <td>256705146872</td>\n",
              "      <td>29</td>\n",
              "      <td>0.0</td>\n",
              "      <td>2020</td>\n",
              "      <td>2</td>\n",
              "      <td>22</td>\n",
              "    </tr>\n",
              "  </tbody>\n",
              "</table>\n",
              "<p>10085804 rows × 6 columns</p>\n",
              "</div>"
            ],
            "text/plain": [
              "                   acc  pid  target  year  month  day\n",
              "0         256702177173   26     1.0  2019     11    1\n",
              "1         256705848786   26     0.0  2019     11    1\n",
              "2         256794989487   26     0.0  2019     11    1\n",
              "3         256705040016   26     0.0  2019     11    1\n",
              "4         256781899610   26     0.0  2019     11    1\n",
              "...                ...  ...     ...   ...    ...  ...\n",
              "10085799  256777222008   29     0.0  2020      2   22\n",
              "10085800  256700425809   29     0.0  2020      2   22\n",
              "10085801  256772359045   29     0.0  2020      2   22\n",
              "10085802  256772806102   29     0.0  2020      2   22\n",
              "10085803  256705146872   29     0.0  2020      2   22\n",
              "\n",
              "[10085804 rows x 6 columns]"
            ]
          },
          "metadata": {
            "tags": []
          },
          "execution_count": 213
        }
      ]
    },
    {
      "cell_type": "code",
      "metadata": {
        "id": "2XBS2Kpmy_ek",
        "colab_type": "code",
        "colab": {}
      },
      "source": [
        "datalag =  data.copy()\n",
        "\n",
        "lag_list = [1, 2, 3] \n",
        "for lag in lag_list: \n",
        "  ft_name = ('item_cnt_shifted%s' % lag)\n",
        "  datalag[ft_name] = datalag.sort_values('day').groupby(['acc', 'pid', 'month'])['target'].shift(lag) # Fill the empty shifted features with 0 train[ft_name].fillna(0, inplace=True) \n",
        "  datalag[ft_name].fillna(0,inplace=True)"
      ],
      "execution_count": 0,
      "outputs": []
    },
    {
      "cell_type": "code",
      "metadata": {
        "id": "pJ4miTrL0d1O",
        "colab_type": "code",
        "colab": {}
      },
      "source": [
        "datalag.drop(range(0,6),axis=1,inplace=True)"
      ],
      "execution_count": 0,
      "outputs": []
    },
    {
      "cell_type": "code",
      "metadata": {
        "id": "-a1Xz3mv3k20",
        "colab_type": "code",
        "colab": {}
      },
      "source": [
        "submission_cleanlag = submission_clean.copy()"
      ],
      "execution_count": 0,
      "outputs": []
    },
    {
      "cell_type": "code",
      "metadata": {
        "id": "Ci6d2GnbznPb",
        "colab_type": "code",
        "colab": {}
      },
      "source": [
        "lag_list = [1, 2, 3] \n",
        "for lag in lag_list: \n",
        "  ft_name = ('item_cnt_shifted%s' % lag)\n",
        "  submission_cleanlag[ft_name] = datalag[(datalag.year == 2020) & (datalag.month==2)].sort_values('day').groupby(['acc', 'pid', 'month'])['target'].shift(lag) # Fill the empty shifted features with 0 train[ft_name].fillna(0, inplace=True) \n",
        "  submission_cleanlag[ft_name].fillna(0,inplace=True)"
      ],
      "execution_count": 0,
      "outputs": []
    },
    {
      "cell_type": "code",
      "metadata": {
        "id": "nXQq7oSp4NB5",
        "colab_type": "code",
        "outputId": "fc36baff-f862-47e0-84a9-035273450b52",
        "colab": {
          "base_uri": "https://localhost:8080/",
          "height": 439
        }
      },
      "source": [
        "datalag"
      ],
      "execution_count": 0,
      "outputs": [
        {
          "output_type": "execute_result",
          "data": {
            "text/html": [
              "<div>\n",
              "<style scoped>\n",
              "    .dataframe tbody tr th:only-of-type {\n",
              "        vertical-align: middle;\n",
              "    }\n",
              "\n",
              "    .dataframe tbody tr th {\n",
              "        vertical-align: top;\n",
              "    }\n",
              "\n",
              "    .dataframe thead th {\n",
              "        text-align: right;\n",
              "    }\n",
              "</style>\n",
              "<table border=\"1\" class=\"dataframe\">\n",
              "  <thead>\n",
              "    <tr style=\"text-align: right;\">\n",
              "      <th></th>\n",
              "      <th>acc</th>\n",
              "      <th>pid</th>\n",
              "      <th>target</th>\n",
              "      <th>year</th>\n",
              "      <th>month</th>\n",
              "      <th>day</th>\n",
              "      <th>item_cnt_shifted1</th>\n",
              "      <th>item_cnt_shifted2</th>\n",
              "      <th>item_cnt_shifted3</th>\n",
              "    </tr>\n",
              "  </thead>\n",
              "  <tbody>\n",
              "    <tr>\n",
              "      <th>0</th>\n",
              "      <td>256702177173</td>\n",
              "      <td>26</td>\n",
              "      <td>1.0</td>\n",
              "      <td>2019</td>\n",
              "      <td>11</td>\n",
              "      <td>1</td>\n",
              "      <td>0.0</td>\n",
              "      <td>0.0</td>\n",
              "      <td>0.0</td>\n",
              "    </tr>\n",
              "    <tr>\n",
              "      <th>1</th>\n",
              "      <td>256705848786</td>\n",
              "      <td>26</td>\n",
              "      <td>0.0</td>\n",
              "      <td>2019</td>\n",
              "      <td>11</td>\n",
              "      <td>1</td>\n",
              "      <td>0.0</td>\n",
              "      <td>0.0</td>\n",
              "      <td>0.0</td>\n",
              "    </tr>\n",
              "    <tr>\n",
              "      <th>2</th>\n",
              "      <td>256794989487</td>\n",
              "      <td>26</td>\n",
              "      <td>0.0</td>\n",
              "      <td>2019</td>\n",
              "      <td>11</td>\n",
              "      <td>1</td>\n",
              "      <td>0.0</td>\n",
              "      <td>0.0</td>\n",
              "      <td>0.0</td>\n",
              "    </tr>\n",
              "    <tr>\n",
              "      <th>3</th>\n",
              "      <td>256705040016</td>\n",
              "      <td>26</td>\n",
              "      <td>0.0</td>\n",
              "      <td>2019</td>\n",
              "      <td>11</td>\n",
              "      <td>1</td>\n",
              "      <td>0.0</td>\n",
              "      <td>0.0</td>\n",
              "      <td>0.0</td>\n",
              "    </tr>\n",
              "    <tr>\n",
              "      <th>4</th>\n",
              "      <td>256781899610</td>\n",
              "      <td>26</td>\n",
              "      <td>0.0</td>\n",
              "      <td>2019</td>\n",
              "      <td>11</td>\n",
              "      <td>1</td>\n",
              "      <td>0.0</td>\n",
              "      <td>0.0</td>\n",
              "      <td>0.0</td>\n",
              "    </tr>\n",
              "    <tr>\n",
              "      <th>...</th>\n",
              "      <td>...</td>\n",
              "      <td>...</td>\n",
              "      <td>...</td>\n",
              "      <td>...</td>\n",
              "      <td>...</td>\n",
              "      <td>...</td>\n",
              "      <td>...</td>\n",
              "      <td>...</td>\n",
              "      <td>...</td>\n",
              "    </tr>\n",
              "    <tr>\n",
              "      <th>10085799</th>\n",
              "      <td>256777222008</td>\n",
              "      <td>29</td>\n",
              "      <td>0.0</td>\n",
              "      <td>2020</td>\n",
              "      <td>2</td>\n",
              "      <td>22</td>\n",
              "      <td>0.0</td>\n",
              "      <td>0.0</td>\n",
              "      <td>0.0</td>\n",
              "    </tr>\n",
              "    <tr>\n",
              "      <th>10085800</th>\n",
              "      <td>256700425809</td>\n",
              "      <td>29</td>\n",
              "      <td>0.0</td>\n",
              "      <td>2020</td>\n",
              "      <td>2</td>\n",
              "      <td>22</td>\n",
              "      <td>0.0</td>\n",
              "      <td>0.0</td>\n",
              "      <td>0.0</td>\n",
              "    </tr>\n",
              "    <tr>\n",
              "      <th>10085801</th>\n",
              "      <td>256772359045</td>\n",
              "      <td>29</td>\n",
              "      <td>0.0</td>\n",
              "      <td>2020</td>\n",
              "      <td>2</td>\n",
              "      <td>22</td>\n",
              "      <td>0.0</td>\n",
              "      <td>0.0</td>\n",
              "      <td>0.0</td>\n",
              "    </tr>\n",
              "    <tr>\n",
              "      <th>10085802</th>\n",
              "      <td>256772806102</td>\n",
              "      <td>29</td>\n",
              "      <td>0.0</td>\n",
              "      <td>2020</td>\n",
              "      <td>2</td>\n",
              "      <td>22</td>\n",
              "      <td>0.0</td>\n",
              "      <td>0.0</td>\n",
              "      <td>0.0</td>\n",
              "    </tr>\n",
              "    <tr>\n",
              "      <th>10085803</th>\n",
              "      <td>256705146872</td>\n",
              "      <td>29</td>\n",
              "      <td>0.0</td>\n",
              "      <td>2020</td>\n",
              "      <td>2</td>\n",
              "      <td>22</td>\n",
              "      <td>0.0</td>\n",
              "      <td>0.0</td>\n",
              "      <td>0.0</td>\n",
              "    </tr>\n",
              "  </tbody>\n",
              "</table>\n",
              "<p>10085804 rows × 9 columns</p>\n",
              "</div>"
            ],
            "text/plain": [
              "                   acc  pid  ...  item_cnt_shifted2  item_cnt_shifted3\n",
              "0         256702177173   26  ...                0.0                0.0\n",
              "1         256705848786   26  ...                0.0                0.0\n",
              "2         256794989487   26  ...                0.0                0.0\n",
              "3         256705040016   26  ...                0.0                0.0\n",
              "4         256781899610   26  ...                0.0                0.0\n",
              "...                ...  ...  ...                ...                ...\n",
              "10085799  256777222008   29  ...                0.0                0.0\n",
              "10085800  256700425809   29  ...                0.0                0.0\n",
              "10085801  256772359045   29  ...                0.0                0.0\n",
              "10085802  256772806102   29  ...                0.0                0.0\n",
              "10085803  256705146872   29  ...                0.0                0.0\n",
              "\n",
              "[10085804 rows x 9 columns]"
            ]
          },
          "metadata": {
            "tags": []
          },
          "execution_count": 225
        }
      ]
    },
    {
      "cell_type": "code",
      "metadata": {
        "id": "X0jeaCdK0Yvp",
        "colab_type": "code",
        "colab": {}
      },
      "source": [
        "tr = DecisionTreeClassifier()\n",
        "tr.fit(datalag.drop(\"target\",axis=1),datalag.target)\n",
        "pred = tr.predict(submission_cleanlag)\n",
        "submission[\"Prediction\"] = pred"
      ],
      "execution_count": 0,
      "outputs": []
    },
    {
      "cell_type": "code",
      "metadata": {
        "id": "2V86pjsd4lCW",
        "colab_type": "code",
        "colab": {}
      },
      "source": [
        "submission.to_csv(\"lag.csv\",index=False)"
      ],
      "execution_count": 0,
      "outputs": []
    },
    {
      "cell_type": "code",
      "metadata": {
        "id": "yV105dUT5C6z",
        "colab_type": "code",
        "outputId": "b8938aa4-9d7c-432a-aa79-f2de84654436",
        "colab": {
          "base_uri": "https://localhost:8080/",
          "height": 419
        }
      },
      "source": [
        "data"
      ],
      "execution_count": 0,
      "outputs": [
        {
          "output_type": "execute_result",
          "data": {
            "text/html": [
              "<div>\n",
              "<style scoped>\n",
              "    .dataframe tbody tr th:only-of-type {\n",
              "        vertical-align: middle;\n",
              "    }\n",
              "\n",
              "    .dataframe tbody tr th {\n",
              "        vertical-align: top;\n",
              "    }\n",
              "\n",
              "    .dataframe thead th {\n",
              "        text-align: right;\n",
              "    }\n",
              "</style>\n",
              "<table border=\"1\" class=\"dataframe\">\n",
              "  <thead>\n",
              "    <tr style=\"text-align: right;\">\n",
              "      <th></th>\n",
              "      <th>acc</th>\n",
              "      <th>pid</th>\n",
              "      <th>target</th>\n",
              "      <th>year</th>\n",
              "      <th>month</th>\n",
              "      <th>day</th>\n",
              "    </tr>\n",
              "  </thead>\n",
              "  <tbody>\n",
              "    <tr>\n",
              "      <th>0</th>\n",
              "      <td>256702177173</td>\n",
              "      <td>26</td>\n",
              "      <td>1.0</td>\n",
              "      <td>2019</td>\n",
              "      <td>11</td>\n",
              "      <td>1</td>\n",
              "    </tr>\n",
              "    <tr>\n",
              "      <th>1</th>\n",
              "      <td>256705848786</td>\n",
              "      <td>26</td>\n",
              "      <td>0.0</td>\n",
              "      <td>2019</td>\n",
              "      <td>11</td>\n",
              "      <td>1</td>\n",
              "    </tr>\n",
              "    <tr>\n",
              "      <th>2</th>\n",
              "      <td>256794989487</td>\n",
              "      <td>26</td>\n",
              "      <td>0.0</td>\n",
              "      <td>2019</td>\n",
              "      <td>11</td>\n",
              "      <td>1</td>\n",
              "    </tr>\n",
              "    <tr>\n",
              "      <th>3</th>\n",
              "      <td>256705040016</td>\n",
              "      <td>26</td>\n",
              "      <td>0.0</td>\n",
              "      <td>2019</td>\n",
              "      <td>11</td>\n",
              "      <td>1</td>\n",
              "    </tr>\n",
              "    <tr>\n",
              "      <th>4</th>\n",
              "      <td>256781899610</td>\n",
              "      <td>26</td>\n",
              "      <td>0.0</td>\n",
              "      <td>2019</td>\n",
              "      <td>11</td>\n",
              "      <td>1</td>\n",
              "    </tr>\n",
              "    <tr>\n",
              "      <th>...</th>\n",
              "      <td>...</td>\n",
              "      <td>...</td>\n",
              "      <td>...</td>\n",
              "      <td>...</td>\n",
              "      <td>...</td>\n",
              "      <td>...</td>\n",
              "    </tr>\n",
              "    <tr>\n",
              "      <th>10085799</th>\n",
              "      <td>256777222008</td>\n",
              "      <td>29</td>\n",
              "      <td>0.0</td>\n",
              "      <td>2020</td>\n",
              "      <td>2</td>\n",
              "      <td>22</td>\n",
              "    </tr>\n",
              "    <tr>\n",
              "      <th>10085800</th>\n",
              "      <td>256700425809</td>\n",
              "      <td>29</td>\n",
              "      <td>0.0</td>\n",
              "      <td>2020</td>\n",
              "      <td>2</td>\n",
              "      <td>22</td>\n",
              "    </tr>\n",
              "    <tr>\n",
              "      <th>10085801</th>\n",
              "      <td>256772359045</td>\n",
              "      <td>29</td>\n",
              "      <td>0.0</td>\n",
              "      <td>2020</td>\n",
              "      <td>2</td>\n",
              "      <td>22</td>\n",
              "    </tr>\n",
              "    <tr>\n",
              "      <th>10085802</th>\n",
              "      <td>256772806102</td>\n",
              "      <td>29</td>\n",
              "      <td>0.0</td>\n",
              "      <td>2020</td>\n",
              "      <td>2</td>\n",
              "      <td>22</td>\n",
              "    </tr>\n",
              "    <tr>\n",
              "      <th>10085803</th>\n",
              "      <td>256705146872</td>\n",
              "      <td>29</td>\n",
              "      <td>0.0</td>\n",
              "      <td>2020</td>\n",
              "      <td>2</td>\n",
              "      <td>22</td>\n",
              "    </tr>\n",
              "  </tbody>\n",
              "</table>\n",
              "<p>10085804 rows × 6 columns</p>\n",
              "</div>"
            ],
            "text/plain": [
              "                   acc  pid  target  year  month  day\n",
              "0         256702177173   26     1.0  2019     11    1\n",
              "1         256705848786   26     0.0  2019     11    1\n",
              "2         256794989487   26     0.0  2019     11    1\n",
              "3         256705040016   26     0.0  2019     11    1\n",
              "4         256781899610   26     0.0  2019     11    1\n",
              "...                ...  ...     ...   ...    ...  ...\n",
              "10085799  256777222008   29     0.0  2020      2   22\n",
              "10085800  256700425809   29     0.0  2020      2   22\n",
              "10085801  256772359045   29     0.0  2020      2   22\n",
              "10085802  256772806102   29     0.0  2020      2   22\n",
              "10085803  256705146872   29     0.0  2020      2   22\n",
              "\n",
              "[10085804 rows x 6 columns]"
            ]
          },
          "metadata": {
            "tags": []
          },
          "execution_count": 228
        }
      ]
    },
    {
      "cell_type": "code",
      "metadata": {
        "id": "_RoaCkLf4uWU",
        "colab_type": "code",
        "colab": {}
      },
      "source": [
        " #mean encoding\n",
        "from sklearn.model_selection import KFold\n",
        "kf = KFold(n_splits = 5 , shuffle = False )\n",
        "for train_index , val_index in kf.split(data) :\n",
        "    X_train , X_val = data.iloc[train_index] , data.iloc[val_index]\n",
        "    data.loc[val_index,'item_target_enc'] = X_val['acc'].map(X_train.groupby('acc')['target'].mean())\n",
        "data['item_target_enc'].fillna(1 , inplace=True)"
      ],
      "execution_count": 0,
      "outputs": []
    }
  ]
}